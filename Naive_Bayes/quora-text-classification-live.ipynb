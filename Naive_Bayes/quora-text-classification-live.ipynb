{
 "cells": [
  {
   "cell_type": "markdown",
   "id": "a0d9da10",
   "metadata": {
    "id": "YjMtSwNYcS96",
    "papermill": {
     "duration": 0.024668,
     "end_time": "2023-01-01T09:20:10.724409",
     "exception": false,
     "start_time": "2023-01-01T09:20:10.699741",
     "status": "completed"
    },
    "tags": []
   },
   "source": []
  },
  {
   "cell_type": "markdown",
   "id": "efc69493",
   "metadata": {
    "id": "3Mcuw23DcPzv",
    "papermill": {
     "duration": 0.024742,
     "end_time": "2023-01-01T09:20:10.774946",
     "exception": false,
     "start_time": "2023-01-01T09:20:10.750204",
     "status": "completed"
    },
    "tags": []
   },
   "source": [
    "# quora-text-classification-live-zaid\n",
    "-download and explore data\n",
    "- apply text classification techniques\n",
    "-implement bag of words model\n",
    "- train ML models for text classification\n",
    "- make predictions and submit to kaggle\n",
    "Use the \"Run\" button to execute the code."
   ]
  },
  {
   "cell_type": "markdown",
   "id": "987c0df3",
   "metadata": {
    "id": "ZLp7CVhLcy64",
    "papermill": {
     "duration": 0.023093,
     "end_time": "2023-01-01T09:20:10.821693",
     "exception": false,
     "start_time": "2023-01-01T09:20:10.798600",
     "status": "completed"
    },
    "tags": []
   },
   "source": [
    "##download and explore the data"
   ]
  },
  {
   "cell_type": "code",
   "execution_count": 1,
   "id": "1d49a62b",
   "metadata": {
    "execution": {
     "iopub.execute_input": "2023-01-01T09:20:10.873860Z",
     "iopub.status.busy": "2023-01-01T09:20:10.873078Z",
     "iopub.status.idle": "2023-01-01T09:20:10.878757Z",
     "shell.execute_reply": "2023-01-01T09:20:10.877709Z"
    },
    "executionInfo": {
     "elapsed": 603,
     "status": "ok",
     "timestamp": 1672563657027,
     "user": {
      "displayName": "Zaid Ahmed",
      "userId": "12461655618258195944"
     },
     "user_tz": -300
    },
    "id": "Oyu6YbsJeo1X",
    "papermill": {
     "duration": 0.033864,
     "end_time": "2023-01-01T09:20:10.881753",
     "exception": false,
     "start_time": "2023-01-01T09:20:10.847889",
     "status": "completed"
    },
    "tags": []
   },
   "outputs": [],
   "source": [
    "#import os\n",
    "#os.environ['KAGGLE_CONFIG_DIR']='.'"
   ]
  },
  {
   "cell_type": "code",
   "execution_count": null,
   "id": "cf1ca9f4",
   "metadata": {
    "executionInfo": {
     "elapsed": 14,
     "status": "ok",
     "timestamp": 1672563657741,
     "user": {
      "displayName": "Zaid Ahmed",
      "userId": "12461655618258195944"
     },
     "user_tz": -300
    },
    "id": "f07qtKiIgq56",
    "papermill": {
     "duration": 0.024546,
     "end_time": "2023-01-01T09:20:10.930056",
     "exception": false,
     "start_time": "2023-01-01T09:20:10.905510",
     "status": "completed"
    },
    "tags": []
   },
   "outputs": [],
   "source": []
  },
  {
   "cell_type": "code",
   "execution_count": 2,
   "id": "b20b26e8",
   "metadata": {
    "execution": {
     "iopub.execute_input": "2023-01-01T09:20:10.980601Z",
     "iopub.status.busy": "2023-01-01T09:20:10.980266Z",
     "iopub.status.idle": "2023-01-01T09:20:10.985376Z",
     "shell.execute_reply": "2023-01-01T09:20:10.983654Z"
    },
    "executionInfo": {
     "elapsed": 15,
     "status": "ok",
     "timestamp": 1672563657742,
     "user": {
      "displayName": "Zaid Ahmed",
      "userId": "12461655618258195944"
     },
     "user_tz": -300
    },
    "id": "q8ved7gYdzyn",
    "outputId": "fafcca0e-b4dd-478f-8e13-3428bac5b97d",
    "papermill": {
     "duration": 0.033829,
     "end_time": "2023-01-01T09:20:10.988947",
     "exception": false,
     "start_time": "2023-01-01T09:20:10.955118",
     "status": "completed"
    },
    "tags": []
   },
   "outputs": [],
   "source": [
    "#!chmod 600\n",
    "#!kaggle competitions download -c quora-insincere-questions-classification -f train.csv -p data"
   ]
  },
  {
   "cell_type": "code",
   "execution_count": 3,
   "id": "69b75a6b",
   "metadata": {
    "execution": {
     "iopub.execute_input": "2023-01-01T09:20:11.041440Z",
     "iopub.status.busy": "2023-01-01T09:20:11.040872Z",
     "iopub.status.idle": "2023-01-01T09:20:11.049634Z",
     "shell.execute_reply": "2023-01-01T09:20:11.047744Z"
    },
    "executionInfo": {
     "elapsed": 503,
     "status": "ok",
     "timestamp": 1672563658240,
     "user": {
      "displayName": "Zaid Ahmed",
      "userId": "12461655618258195944"
     },
     "user_tz": -300
    },
    "id": "EpfaW0bxgE1Z",
    "outputId": "c4416e3f-f218-415a-8147-0630fd956ba9",
    "papermill": {
     "duration": 0.03888,
     "end_time": "2023-01-01T09:20:11.052686",
     "exception": false,
     "start_time": "2023-01-01T09:20:11.013806",
     "status": "completed"
    },
    "tags": []
   },
   "outputs": [],
   "source": [
    "#!kaggle competitions download -c quora-insincere-questions-classification -f test.csv -p data"
   ]
  },
  {
   "cell_type": "code",
   "execution_count": 4,
   "id": "946ec7dc",
   "metadata": {
    "execution": {
     "iopub.execute_input": "2023-01-01T09:20:11.114647Z",
     "iopub.status.busy": "2023-01-01T09:20:11.112904Z",
     "iopub.status.idle": "2023-01-01T09:20:11.123475Z",
     "shell.execute_reply": "2023-01-01T09:20:11.120430Z"
    },
    "executionInfo": {
     "elapsed": 5,
     "status": "ok",
     "timestamp": 1672563658241,
     "user": {
      "displayName": "Zaid Ahmed",
      "userId": "12461655618258195944"
     },
     "user_tz": -300
    },
    "id": "3dUcwinAferw",
    "papermill": {
     "duration": 0.049427,
     "end_time": "2023-01-01T09:20:11.126620",
     "exception": false,
     "start_time": "2023-01-01T09:20:11.077193",
     "status": "completed"
    },
    "tags": []
   },
   "outputs": [],
   "source": [
    "#train_fname='data/train.csv.zip'\n",
    "#test_fname='data/test.csv.zip'\n",
    "#sample_fname='data/sample_submission.csv.zip'"
   ]
  },
  {
   "cell_type": "code",
   "execution_count": 5,
   "id": "25196bc1",
   "metadata": {
    "execution": {
     "iopub.execute_input": "2023-01-01T09:20:11.183218Z",
     "iopub.status.busy": "2023-01-01T09:20:11.182786Z",
     "iopub.status.idle": "2023-01-01T09:20:11.193429Z",
     "shell.execute_reply": "2023-01-01T09:20:11.191726Z"
    },
    "papermill": {
     "duration": 0.04047,
     "end_time": "2023-01-01T09:20:11.196328",
     "exception": false,
     "start_time": "2023-01-01T09:20:11.155858",
     "status": "completed"
    },
    "tags": []
   },
   "outputs": [],
   "source": [
    "data_dir='/kaggle/input/quora-insincere-questions-classification'\n",
    "train_fname=data_dir + '/train.csv' \n",
    "test_fname=data_dir + '/test.csv' \n",
    "sample_fname=data_dir + '/sample_submission.csv' "
   ]
  },
  {
   "cell_type": "code",
   "execution_count": 6,
   "id": "e07fbb0b",
   "metadata": {
    "execution": {
     "iopub.execute_input": "2023-01-01T09:20:11.247516Z",
     "iopub.status.busy": "2023-01-01T09:20:11.246970Z",
     "iopub.status.idle": "2023-01-01T09:20:11.254834Z",
     "shell.execute_reply": "2023-01-01T09:20:11.252723Z"
    },
    "executionInfo": {
     "elapsed": 5,
     "status": "ok",
     "timestamp": 1672563658242,
     "user": {
      "displayName": "Zaid Ahmed",
      "userId": "12461655618258195944"
     },
     "user_tz": -300
    },
    "id": "FHZuXAaCUXko",
    "papermill": {
     "duration": 0.036961,
     "end_time": "2023-01-01T09:20:11.257897",
     "exception": false,
     "start_time": "2023-01-01T09:20:11.220936",
     "status": "completed"
    },
    "tags": []
   },
   "outputs": [],
   "source": [
    "import pandas as pd"
   ]
  },
  {
   "cell_type": "code",
   "execution_count": 7,
   "id": "02a05c3e",
   "metadata": {
    "execution": {
     "iopub.execute_input": "2023-01-01T09:20:11.307978Z",
     "iopub.status.busy": "2023-01-01T09:20:11.307599Z",
     "iopub.status.idle": "2023-01-01T09:20:16.125796Z",
     "shell.execute_reply": "2023-01-01T09:20:16.123674Z"
    },
    "executionInfo": {
     "elapsed": 5018,
     "status": "ok",
     "timestamp": 1672563663255,
     "user": {
      "displayName": "Zaid Ahmed",
      "userId": "12461655618258195944"
     },
     "user_tz": -300
    },
    "id": "TE0MuFWeUcGn",
    "outputId": "a978e1e3-71c8-4840-f889-70e930d68ba8",
    "papermill": {
     "duration": 4.846445,
     "end_time": "2023-01-01T09:20:16.128581",
     "exception": false,
     "start_time": "2023-01-01T09:20:11.282136",
     "status": "completed"
    },
    "tags": []
   },
   "outputs": [
    {
     "data": {
      "text/html": [
       "<div>\n",
       "<style scoped>\n",
       "    .dataframe tbody tr th:only-of-type {\n",
       "        vertical-align: middle;\n",
       "    }\n",
       "\n",
       "    .dataframe tbody tr th {\n",
       "        vertical-align: top;\n",
       "    }\n",
       "\n",
       "    .dataframe thead th {\n",
       "        text-align: right;\n",
       "    }\n",
       "</style>\n",
       "<table border=\"1\" class=\"dataframe\">\n",
       "  <thead>\n",
       "    <tr style=\"text-align: right;\">\n",
       "      <th></th>\n",
       "      <th>qid</th>\n",
       "      <th>question_text</th>\n",
       "      <th>target</th>\n",
       "    </tr>\n",
       "  </thead>\n",
       "  <tbody>\n",
       "    <tr>\n",
       "      <th>0</th>\n",
       "      <td>00002165364db923c7e6</td>\n",
       "      <td>How did Quebec nationalists see their province...</td>\n",
       "      <td>0</td>\n",
       "    </tr>\n",
       "    <tr>\n",
       "      <th>1</th>\n",
       "      <td>000032939017120e6e44</td>\n",
       "      <td>Do you have an adopted dog, how would you enco...</td>\n",
       "      <td>0</td>\n",
       "    </tr>\n",
       "    <tr>\n",
       "      <th>2</th>\n",
       "      <td>0000412ca6e4628ce2cf</td>\n",
       "      <td>Why does velocity affect time? Does velocity a...</td>\n",
       "      <td>0</td>\n",
       "    </tr>\n",
       "    <tr>\n",
       "      <th>3</th>\n",
       "      <td>000042bf85aa498cd78e</td>\n",
       "      <td>How did Otto von Guericke used the Magdeburg h...</td>\n",
       "      <td>0</td>\n",
       "    </tr>\n",
       "    <tr>\n",
       "      <th>4</th>\n",
       "      <td>0000455dfa3e01eae3af</td>\n",
       "      <td>Can I convert montra helicon D to a mountain b...</td>\n",
       "      <td>0</td>\n",
       "    </tr>\n",
       "    <tr>\n",
       "      <th>...</th>\n",
       "      <td>...</td>\n",
       "      <td>...</td>\n",
       "      <td>...</td>\n",
       "    </tr>\n",
       "    <tr>\n",
       "      <th>1306117</th>\n",
       "      <td>ffffcc4e2331aaf1e41e</td>\n",
       "      <td>What other technical skills do you need as a c...</td>\n",
       "      <td>0</td>\n",
       "    </tr>\n",
       "    <tr>\n",
       "      <th>1306118</th>\n",
       "      <td>ffffd431801e5a2f4861</td>\n",
       "      <td>Does MS in ECE have good job prospects in USA ...</td>\n",
       "      <td>0</td>\n",
       "    </tr>\n",
       "    <tr>\n",
       "      <th>1306119</th>\n",
       "      <td>ffffd48fb36b63db010c</td>\n",
       "      <td>Is foam insulation toxic?</td>\n",
       "      <td>0</td>\n",
       "    </tr>\n",
       "    <tr>\n",
       "      <th>1306120</th>\n",
       "      <td>ffffec519fa37cf60c78</td>\n",
       "      <td>How can one start a research project based on ...</td>\n",
       "      <td>0</td>\n",
       "    </tr>\n",
       "    <tr>\n",
       "      <th>1306121</th>\n",
       "      <td>ffffed09fedb5088744a</td>\n",
       "      <td>Who wins in a battle between a Wolverine and a...</td>\n",
       "      <td>0</td>\n",
       "    </tr>\n",
       "  </tbody>\n",
       "</table>\n",
       "<p>1306122 rows × 3 columns</p>\n",
       "</div>"
      ],
      "text/plain": [
       "                          qid  \\\n",
       "0        00002165364db923c7e6   \n",
       "1        000032939017120e6e44   \n",
       "2        0000412ca6e4628ce2cf   \n",
       "3        000042bf85aa498cd78e   \n",
       "4        0000455dfa3e01eae3af   \n",
       "...                       ...   \n",
       "1306117  ffffcc4e2331aaf1e41e   \n",
       "1306118  ffffd431801e5a2f4861   \n",
       "1306119  ffffd48fb36b63db010c   \n",
       "1306120  ffffec519fa37cf60c78   \n",
       "1306121  ffffed09fedb5088744a   \n",
       "\n",
       "                                             question_text  target  \n",
       "0        How did Quebec nationalists see their province...       0  \n",
       "1        Do you have an adopted dog, how would you enco...       0  \n",
       "2        Why does velocity affect time? Does velocity a...       0  \n",
       "3        How did Otto von Guericke used the Magdeburg h...       0  \n",
       "4        Can I convert montra helicon D to a mountain b...       0  \n",
       "...                                                    ...     ...  \n",
       "1306117  What other technical skills do you need as a c...       0  \n",
       "1306118  Does MS in ECE have good job prospects in USA ...       0  \n",
       "1306119                          Is foam insulation toxic?       0  \n",
       "1306120  How can one start a research project based on ...       0  \n",
       "1306121  Who wins in a battle between a Wolverine and a...       0  \n",
       "\n",
       "[1306122 rows x 3 columns]"
      ]
     },
     "execution_count": 7,
     "metadata": {},
     "output_type": "execute_result"
    }
   ],
   "source": [
    "raw_df=pd.read_csv(train_fname)\n",
    "raw_df"
   ]
  },
  {
   "cell_type": "code",
   "execution_count": 8,
   "id": "39357f2f",
   "metadata": {
    "execution": {
     "iopub.execute_input": "2023-01-01T09:20:16.181824Z",
     "iopub.status.busy": "2023-01-01T09:20:16.181335Z",
     "iopub.status.idle": "2023-01-01T09:20:16.295311Z",
     "shell.execute_reply": "2023-01-01T09:20:16.293702Z"
    },
    "executionInfo": {
     "elapsed": 51,
     "status": "ok",
     "timestamp": 1672563663257,
     "user": {
      "displayName": "Zaid Ahmed",
      "userId": "12461655618258195944"
     },
     "user_tz": -300
    },
    "id": "MBQSW8hZUzbd",
    "outputId": "5be761cd-5758-458b-9031-0e0b6a56ac6e",
    "papermill": {
     "duration": 0.144595,
     "end_time": "2023-01-01T09:20:16.298032",
     "exception": false,
     "start_time": "2023-01-01T09:20:16.153437",
     "status": "completed"
    },
    "tags": []
   },
   "outputs": [
    {
     "data": {
      "text/html": [
       "<div>\n",
       "<style scoped>\n",
       "    .dataframe tbody tr th:only-of-type {\n",
       "        vertical-align: middle;\n",
       "    }\n",
       "\n",
       "    .dataframe tbody tr th {\n",
       "        vertical-align: top;\n",
       "    }\n",
       "\n",
       "    .dataframe thead th {\n",
       "        text-align: right;\n",
       "    }\n",
       "</style>\n",
       "<table border=\"1\" class=\"dataframe\">\n",
       "  <thead>\n",
       "    <tr style=\"text-align: right;\">\n",
       "      <th></th>\n",
       "      <th>qid</th>\n",
       "      <th>question_text</th>\n",
       "      <th>target</th>\n",
       "    </tr>\n",
       "  </thead>\n",
       "  <tbody>\n",
       "    <tr>\n",
       "      <th>0</th>\n",
       "      <td>00002165364db923c7e6</td>\n",
       "      <td>How did Quebec nationalists see their province...</td>\n",
       "      <td>0</td>\n",
       "    </tr>\n",
       "    <tr>\n",
       "      <th>1</th>\n",
       "      <td>000032939017120e6e44</td>\n",
       "      <td>Do you have an adopted dog, how would you enco...</td>\n",
       "      <td>0</td>\n",
       "    </tr>\n",
       "    <tr>\n",
       "      <th>2</th>\n",
       "      <td>0000412ca6e4628ce2cf</td>\n",
       "      <td>Why does velocity affect time? Does velocity a...</td>\n",
       "      <td>0</td>\n",
       "    </tr>\n",
       "    <tr>\n",
       "      <th>3</th>\n",
       "      <td>000042bf85aa498cd78e</td>\n",
       "      <td>How did Otto von Guericke used the Magdeburg h...</td>\n",
       "      <td>0</td>\n",
       "    </tr>\n",
       "    <tr>\n",
       "      <th>4</th>\n",
       "      <td>0000455dfa3e01eae3af</td>\n",
       "      <td>Can I convert montra helicon D to a mountain b...</td>\n",
       "      <td>0</td>\n",
       "    </tr>\n",
       "    <tr>\n",
       "      <th>...</th>\n",
       "      <td>...</td>\n",
       "      <td>...</td>\n",
       "      <td>...</td>\n",
       "    </tr>\n",
       "    <tr>\n",
       "      <th>1306117</th>\n",
       "      <td>ffffcc4e2331aaf1e41e</td>\n",
       "      <td>What other technical skills do you need as a c...</td>\n",
       "      <td>0</td>\n",
       "    </tr>\n",
       "    <tr>\n",
       "      <th>1306118</th>\n",
       "      <td>ffffd431801e5a2f4861</td>\n",
       "      <td>Does MS in ECE have good job prospects in USA ...</td>\n",
       "      <td>0</td>\n",
       "    </tr>\n",
       "    <tr>\n",
       "      <th>1306119</th>\n",
       "      <td>ffffd48fb36b63db010c</td>\n",
       "      <td>Is foam insulation toxic?</td>\n",
       "      <td>0</td>\n",
       "    </tr>\n",
       "    <tr>\n",
       "      <th>1306120</th>\n",
       "      <td>ffffec519fa37cf60c78</td>\n",
       "      <td>How can one start a research project based on ...</td>\n",
       "      <td>0</td>\n",
       "    </tr>\n",
       "    <tr>\n",
       "      <th>1306121</th>\n",
       "      <td>ffffed09fedb5088744a</td>\n",
       "      <td>Who wins in a battle between a Wolverine and a...</td>\n",
       "      <td>0</td>\n",
       "    </tr>\n",
       "  </tbody>\n",
       "</table>\n",
       "<p>1225312 rows × 3 columns</p>\n",
       "</div>"
      ],
      "text/plain": [
       "                          qid  \\\n",
       "0        00002165364db923c7e6   \n",
       "1        000032939017120e6e44   \n",
       "2        0000412ca6e4628ce2cf   \n",
       "3        000042bf85aa498cd78e   \n",
       "4        0000455dfa3e01eae3af   \n",
       "...                       ...   \n",
       "1306117  ffffcc4e2331aaf1e41e   \n",
       "1306118  ffffd431801e5a2f4861   \n",
       "1306119  ffffd48fb36b63db010c   \n",
       "1306120  ffffec519fa37cf60c78   \n",
       "1306121  ffffed09fedb5088744a   \n",
       "\n",
       "                                             question_text  target  \n",
       "0        How did Quebec nationalists see their province...       0  \n",
       "1        Do you have an adopted dog, how would you enco...       0  \n",
       "2        Why does velocity affect time? Does velocity a...       0  \n",
       "3        How did Otto von Guericke used the Magdeburg h...       0  \n",
       "4        Can I convert montra helicon D to a mountain b...       0  \n",
       "...                                                    ...     ...  \n",
       "1306117  What other technical skills do you need as a c...       0  \n",
       "1306118  Does MS in ECE have good job prospects in USA ...       0  \n",
       "1306119                          Is foam insulation toxic?       0  \n",
       "1306120  How can one start a research project based on ...       0  \n",
       "1306121  Who wins in a battle between a Wolverine and a...       0  \n",
       "\n",
       "[1225312 rows x 3 columns]"
      ]
     },
     "execution_count": 8,
     "metadata": {},
     "output_type": "execute_result"
    }
   ],
   "source": [
    "sincere_df=raw_df[raw_df.target==0] ##woh wala df deiga jiskay target sirf 0\n",
    "sincere_df"
   ]
  },
  {
   "cell_type": "code",
   "execution_count": 9,
   "id": "332d5fb1",
   "metadata": {
    "execution": {
     "iopub.execute_input": "2023-01-01T09:20:16.355092Z",
     "iopub.status.busy": "2023-01-01T09:20:16.352955Z",
     "iopub.status.idle": "2023-01-01T09:20:16.365042Z",
     "shell.execute_reply": "2023-01-01T09:20:16.363565Z"
    },
    "executionInfo": {
     "elapsed": 53,
     "status": "ok",
     "timestamp": 1672563663262,
     "user": {
      "displayName": "Zaid Ahmed",
      "userId": "12461655618258195944"
     },
     "user_tz": -300
    },
    "id": "89SXfNrpU8wM",
    "outputId": "cdd10fde-1816-4245-ac9f-4f44a1cf5910",
    "papermill": {
     "duration": 0.04101,
     "end_time": "2023-01-01T09:20:16.367594",
     "exception": false,
     "start_time": "2023-01-01T09:20:16.326584",
     "status": "completed"
    },
    "tags": []
   },
   "outputs": [
    {
     "data": {
      "text/plain": [
       "array(['How did Quebec nationalists see their province as a nation in the 1960s?',\n",
       "       'Do you have an adopted dog, how would you encourage people to adopt and not shop?',\n",
       "       'Why does velocity affect time? Does velocity affect space geometry?',\n",
       "       'How did Otto von Guericke used the Magdeburg hemispheres?',\n",
       "       'Can I convert montra helicon D to a mountain bike by just changing the tyres?',\n",
       "       'Is Gaza slowly becoming Auschwitz, Dachau or Treblinka for Palestinians?',\n",
       "       'Why does Quora automatically ban conservative opinions when reported, but does not do the same for liberal views?',\n",
       "       'Is it crazy if I wash or wipe my groceries off? Germs are everywhere.',\n",
       "       'Is there such a thing as dressing moderately, and if so, how is that different than dressing modestly?',\n",
       "       'Is it just me or have you ever been in this phase wherein you became ignorant to the people you once loved, completely disregarding their feelings/lives so you get to have something go your way and feel temporarily at ease. How did things change?'],\n",
       "      dtype=object)"
      ]
     },
     "execution_count": 9,
     "metadata": {},
     "output_type": "execute_result"
    }
   ],
   "source": [
    "sincere_df.question_text.values[:10] ##10 sawaal le aou"
   ]
  },
  {
   "cell_type": "code",
   "execution_count": 10,
   "id": "52648f8c",
   "metadata": {
    "execution": {
     "iopub.execute_input": "2023-01-01T09:20:16.420093Z",
     "iopub.status.busy": "2023-01-01T09:20:16.419390Z",
     "iopub.status.idle": "2023-01-01T09:20:16.448596Z",
     "shell.execute_reply": "2023-01-01T09:20:16.447722Z"
    },
    "executionInfo": {
     "elapsed": 45,
     "status": "ok",
     "timestamp": 1672563663263,
     "user": {
      "displayName": "Zaid Ahmed",
      "userId": "12461655618258195944"
     },
     "user_tz": -300
    },
    "id": "4zSaUObQVsxK",
    "outputId": "8f60d1f2-22c0-4aab-ceb8-fc047412b6b4",
    "papermill": {
     "duration": 0.058354,
     "end_time": "2023-01-01T09:20:16.450993",
     "exception": false,
     "start_time": "2023-01-01T09:20:16.392639",
     "status": "completed"
    },
    "tags": []
   },
   "outputs": [
    {
     "data": {
      "text/plain": [
       "array(['Has the United States become the largest dictatorship in the world?',\n",
       "       'Which babies are more sweeter to their parents? Dark skin babies or light skin babies?',\n",
       "       \"If blacks support school choice and mandatory sentencing for criminals why don't they vote Republican?\",\n",
       "       'I am gay boy and I love my cousin (boy). He is sexy, but I dont know what to do. He is hot, and I want to see his di**. What should I do?',\n",
       "       'Which races have the smallest penis?',\n",
       "       'Why do females find penises ugly?',\n",
       "       'How do I marry an American woman for a Green Card? How much do they charge?',\n",
       "       \"Why do Europeans say they're the superior race, when in fact it took them over 2,000 years until mid 19th century to surpass China's largest economy?\",\n",
       "       'Did Julius Caesar bring a tyrannosaurus rex on his campaigns to frighten the Celts into submission?',\n",
       "       \"In what manner has Republican backing of 'states rights' been hypocritical and what ways have they actually restricted the ability of states to make their own laws?\"],\n",
       "      dtype=object)"
      ]
     },
     "execution_count": 10,
     "metadata": {},
     "output_type": "execute_result"
    }
   ],
   "source": [
    "insincere_df=raw_df[raw_df.target==1]\n",
    "insincere_df.question_text.values[:10]"
   ]
  },
  {
   "cell_type": "code",
   "execution_count": 11,
   "id": "74788bfc",
   "metadata": {
    "execution": {
     "iopub.execute_input": "2023-01-01T09:20:16.503071Z",
     "iopub.status.busy": "2023-01-01T09:20:16.502379Z",
     "iopub.status.idle": "2023-01-01T09:20:16.725559Z",
     "shell.execute_reply": "2023-01-01T09:20:16.723589Z"
    },
    "executionInfo": {
     "elapsed": 41,
     "status": "ok",
     "timestamp": 1672563663264,
     "user": {
      "displayName": "Zaid Ahmed",
      "userId": "12461655618258195944"
     },
     "user_tz": -300
    },
    "id": "6J9t8ztYWCCo",
    "outputId": "9ff77afc-5e75-4606-cc6c-3f71c4523a90",
    "papermill": {
     "duration": 0.254155,
     "end_time": "2023-01-01T09:20:16.728960",
     "exception": false,
     "start_time": "2023-01-01T09:20:16.474805",
     "status": "completed"
    },
    "tags": []
   },
   "outputs": [
    {
     "data": {
      "text/plain": [
       "<AxesSubplot:>"
      ]
     },
     "execution_count": 11,
     "metadata": {},
     "output_type": "execute_result"
    },
    {
     "data": {
      "image/png": "[encoded data removed]",
      "text/plain": [
       "<Figure size 432x288 with 1 Axes>"
      ]
     },
     "metadata": {
      "needs_background": "light"
     },
     "output_type": "display_data"
    }
   ],
   "source": [
    "raw_df.target.value_counts(normalize=True).plot(kind='bar') "
   ]
  },
  {
   "cell_type": "code",
   "execution_count": 12,
   "id": "1298a1cf",
   "metadata": {
    "execution": {
     "iopub.execute_input": "2023-01-01T09:20:16.782352Z",
     "iopub.status.busy": "2023-01-01T09:20:16.781976Z",
     "iopub.status.idle": "2023-01-01T09:20:16.895685Z",
     "shell.execute_reply": "2023-01-01T09:20:16.893288Z"
    },
    "executionInfo": {
     "elapsed": 33,
     "status": "ok",
     "timestamp": 1672563663266,
     "user": {
      "displayName": "Zaid Ahmed",
      "userId": "12461655618258195944"
     },
     "user_tz": -300
    },
    "id": "UZOplNYyW_Fz",
    "papermill": {
     "duration": 0.144854,
     "end_time": "2023-01-01T09:20:16.899531",
     "exception": false,
     "start_time": "2023-01-01T09:20:16.754677",
     "status": "completed"
    },
    "tags": []
   },
   "outputs": [],
   "source": [
    "samples=100_000\n",
    "sample_df=raw_df.sample(samples,random_state=42)"
   ]
  },
  {
   "cell_type": "code",
   "execution_count": 13,
   "id": "fbdbaa7a",
   "metadata": {
    "execution": {
     "iopub.execute_input": "2023-01-01T09:20:16.954986Z",
     "iopub.status.busy": "2023-01-01T09:20:16.953699Z",
     "iopub.status.idle": "2023-01-01T09:20:17.061409Z",
     "shell.execute_reply": "2023-01-01T09:20:17.059491Z"
    },
    "executionInfo": {
     "elapsed": 552,
     "status": "ok",
     "timestamp": 1672563663785,
     "user": {
      "displayName": "Zaid Ahmed",
      "userId": "12461655618258195944"
     },
     "user_tz": -300
    },
    "id": "D63PCGSJW_Cj",
    "papermill": {
     "duration": 0.139285,
     "end_time": "2023-01-01T09:20:17.064395",
     "exception": false,
     "start_time": "2023-01-01T09:20:16.925110",
     "status": "completed"
    },
    "tags": []
   },
   "outputs": [],
   "source": [
    "q0=raw_df[raw_df.target==0].question_text.values[0]"
   ]
  },
  {
   "cell_type": "code",
   "execution_count": 14,
   "id": "cfd80f46",
   "metadata": {
    "execution": {
     "iopub.execute_input": "2023-01-01T09:20:17.116208Z",
     "iopub.status.busy": "2023-01-01T09:20:17.115685Z",
     "iopub.status.idle": "2023-01-01T09:20:17.123480Z",
     "shell.execute_reply": "2023-01-01T09:20:17.122445Z"
    },
    "executionInfo": {
     "elapsed": 26,
     "status": "ok",
     "timestamp": 1672563663787,
     "user": {
      "displayName": "Zaid Ahmed",
      "userId": "12461655618258195944"
     },
     "user_tz": -300
    },
    "id": "Fm2jAJGaW-_p",
    "outputId": "5b65b7b1-1f71-400c-b066-ea117915c4c0",
    "papermill": {
     "duration": 0.036319,
     "end_time": "2023-01-01T09:20:17.125551",
     "exception": false,
     "start_time": "2023-01-01T09:20:17.089232",
     "status": "completed"
    },
    "tags": []
   },
   "outputs": [
    {
     "data": {
      "text/plain": [
       "'How did Quebec nationalists see their province as a nation in the 1960s?'"
      ]
     },
     "execution_count": 14,
     "metadata": {},
     "output_type": "execute_result"
    }
   ],
   "source": [
    "q0"
   ]
  },
  {
   "cell_type": "code",
   "execution_count": 15,
   "id": "69a2ecf5",
   "metadata": {
    "execution": {
     "iopub.execute_input": "2023-01-01T09:20:17.177634Z",
     "iopub.status.busy": "2023-01-01T09:20:17.177273Z",
     "iopub.status.idle": "2023-01-01T09:20:17.195304Z",
     "shell.execute_reply": "2023-01-01T09:20:17.194208Z"
    },
    "executionInfo": {
     "elapsed": 26,
     "status": "ok",
     "timestamp": 1672563663789,
     "user": {
      "displayName": "Zaid Ahmed",
      "userId": "12461655618258195944"
     },
     "user_tz": -300
    },
    "id": "e3z0xyGPW-6Z",
    "papermill": {
     "duration": 0.0475,
     "end_time": "2023-01-01T09:20:17.198097",
     "exception": false,
     "start_time": "2023-01-01T09:20:17.150597",
     "status": "completed"
    },
    "tags": []
   },
   "outputs": [],
   "source": [
    "q1=raw_df[raw_df.target==1].question_text.values[0]"
   ]
  },
  {
   "cell_type": "code",
   "execution_count": 16,
   "id": "4679e29f",
   "metadata": {
    "execution": {
     "iopub.execute_input": "2023-01-01T09:20:17.252432Z",
     "iopub.status.busy": "2023-01-01T09:20:17.251700Z",
     "iopub.status.idle": "2023-01-01T09:20:17.259787Z",
     "shell.execute_reply": "2023-01-01T09:20:17.258295Z"
    },
    "executionInfo": {
     "elapsed": 30,
     "status": "ok",
     "timestamp": 1672563663793,
     "user": {
      "displayName": "Zaid Ahmed",
      "userId": "12461655618258195944"
     },
     "user_tz": -300
    },
    "id": "pF1WvabaW-tj",
    "outputId": "48bd638e-0334-47e2-bba1-cfb77fdb0299",
    "papermill": {
     "duration": 0.037854,
     "end_time": "2023-01-01T09:20:17.261769",
     "exception": false,
     "start_time": "2023-01-01T09:20:17.223915",
     "status": "completed"
    },
    "tags": []
   },
   "outputs": [
    {
     "data": {
      "text/plain": [
       "'Has the United States become the largest dictatorship in the world?'"
      ]
     },
     "execution_count": 16,
     "metadata": {},
     "output_type": "execute_result"
    }
   ],
   "source": [
    "q1"
   ]
  },
  {
   "cell_type": "markdown",
   "id": "26ca964a",
   "metadata": {
    "id": "8o-iLAgZBGbS",
    "papermill": {
     "duration": 0.024729,
     "end_time": "2023-01-01T09:20:17.311959",
     "exception": false,
     "start_time": "2023-01-01T09:20:17.287230",
     "status": "completed"
    },
    "tags": []
   },
   "source": [
    "##text preprocessing techniques"
   ]
  },
  {
   "cell_type": "code",
   "execution_count": 17,
   "id": "d8c61258",
   "metadata": {
    "execution": {
     "iopub.execute_input": "2023-01-01T09:20:17.365691Z",
     "iopub.status.busy": "2023-01-01T09:20:17.365141Z",
     "iopub.status.idle": "2023-01-01T09:20:19.332016Z",
     "shell.execute_reply": "2023-01-01T09:20:19.330608Z"
    },
    "executionInfo": {
     "elapsed": 1986,
     "status": "ok",
     "timestamp": 1672563665750,
     "user": {
      "displayName": "Zaid Ahmed",
      "userId": "12461655618258195944"
     },
     "user_tz": -300
    },
    "id": "u5BtOdoSbg2V",
    "papermill": {
     "duration": 1.996969,
     "end_time": "2023-01-01T09:20:19.334352",
     "exception": false,
     "start_time": "2023-01-01T09:20:17.337383",
     "status": "completed"
    },
    "tags": []
   },
   "outputs": [],
   "source": [
    " import nltk\n",
    " from nltk.tokenize import word_tokenize\n"
   ]
  },
  {
   "cell_type": "code",
   "execution_count": 18,
   "id": "9733df38",
   "metadata": {
    "execution": {
     "iopub.execute_input": "2023-01-01T09:20:19.387215Z",
     "iopub.status.busy": "2023-01-01T09:20:19.386766Z",
     "iopub.status.idle": "2023-01-01T09:20:39.433426Z",
     "shell.execute_reply": "2023-01-01T09:20:39.432089Z"
    },
    "executionInfo": {
     "elapsed": 24,
     "status": "ok",
     "timestamp": 1672563665751,
     "user": {
      "displayName": "Zaid Ahmed",
      "userId": "12461655618258195944"
     },
     "user_tz": -300
    },
    "id": "jBOe6eOvbgzv",
    "outputId": "77ad5d9d-f9ae-4bea-8853-b14ad0298d60",
    "papermill": {
     "duration": 20.076948,
     "end_time": "2023-01-01T09:20:39.435845",
     "exception": false,
     "start_time": "2023-01-01T09:20:19.358897",
     "status": "completed"
    },
    "tags": []
   },
   "outputs": [
    {
     "name": "stderr",
     "output_type": "stream",
     "text": [
      "[nltk_data] Error loading punkt: <urlopen error [Errno -3] Temporary\n",
      "[nltk_data]     failure in name resolution>\n"
     ]
    },
    {
     "data": {
      "text/plain": [
       "False"
      ]
     },
     "execution_count": 18,
     "metadata": {},
     "output_type": "execute_result"
    }
   ],
   "source": [
    "nltk.download('punkt')"
   ]
  },
  {
   "cell_type": "code",
   "execution_count": 19,
   "id": "897fe250",
   "metadata": {
    "execution": {
     "iopub.execute_input": "2023-01-01T09:20:39.489122Z",
     "iopub.status.busy": "2023-01-01T09:20:39.488633Z",
     "iopub.status.idle": "2023-01-01T09:20:39.513836Z",
     "shell.execute_reply": "2023-01-01T09:20:39.512202Z"
    },
    "executionInfo": {
     "elapsed": 19,
     "status": "ok",
     "timestamp": 1672563665752,
     "user": {
      "displayName": "Zaid Ahmed",
      "userId": "12461655618258195944"
     },
     "user_tz": -300
    },
    "id": "M2uz4mFjbgxT",
    "outputId": "6b17dde7-c517-4dc9-ee5e-2f7e9e84eca0",
    "papermill": {
     "duration": 0.056194,
     "end_time": "2023-01-01T09:20:39.517485",
     "exception": false,
     "start_time": "2023-01-01T09:20:39.461291",
     "status": "completed"
    },
    "tags": []
   },
   "outputs": [
    {
     "data": {
      "text/plain": [
       "['How',\n",
       " 'did',\n",
       " 'Quebec',\n",
       " 'nationalists',\n",
       " 'see',\n",
       " 'their',\n",
       " 'province',\n",
       " 'as',\n",
       " 'a',\n",
       " 'nation',\n",
       " 'in',\n",
       " 'the',\n",
       " '1960s',\n",
       " '?']"
      ]
     },
     "execution_count": 19,
     "metadata": {},
     "output_type": "execute_result"
    }
   ],
   "source": [
    "word_tokenize(q0)"
   ]
  },
  {
   "cell_type": "code",
   "execution_count": 20,
   "id": "644d9bb7",
   "metadata": {
    "execution": {
     "iopub.execute_input": "2023-01-01T09:20:39.571061Z",
     "iopub.status.busy": "2023-01-01T09:20:39.570671Z",
     "iopub.status.idle": "2023-01-01T09:20:39.577203Z",
     "shell.execute_reply": "2023-01-01T09:20:39.575251Z"
    },
    "executionInfo": {
     "elapsed": 13,
     "status": "ok",
     "timestamp": 1672563665752,
     "user": {
      "displayName": "Zaid Ahmed",
      "userId": "12461655618258195944"
     },
     "user_tz": -300
    },
    "id": "hxRk4IGLbgu_",
    "papermill": {
     "duration": 0.036846,
     "end_time": "2023-01-01T09:20:39.579988",
     "exception": false,
     "start_time": "2023-01-01T09:20:39.543142",
     "status": "completed"
    },
    "tags": []
   },
   "outputs": [],
   "source": [
    "q0_tok=word_tokenize(q0)\n",
    "q1_tok=word_tokenize(q1)"
   ]
  },
  {
   "cell_type": "code",
   "execution_count": 21,
   "id": "08801bf0",
   "metadata": {
    "execution": {
     "iopub.execute_input": "2023-01-01T09:20:39.633482Z",
     "iopub.status.busy": "2023-01-01T09:20:39.633009Z",
     "iopub.status.idle": "2023-01-01T09:20:59.667709Z",
     "shell.execute_reply": "2023-01-01T09:20:59.666107Z"
    },
    "executionInfo": {
     "elapsed": 1576,
     "status": "ok",
     "timestamp": 1672563667317,
     "user": {
      "displayName": "Zaid Ahmed",
      "userId": "12461655618258195944"
     },
     "user_tz": -300
    },
    "id": "yI4OCgJ0bgrm",
    "outputId": "0737c70c-f7e7-4c0c-c241-4c631c8211cb",
    "papermill": {
     "duration": 20.065422,
     "end_time": "2023-01-01T09:20:59.670191",
     "exception": false,
     "start_time": "2023-01-01T09:20:39.604769",
     "status": "completed"
    },
    "tags": []
   },
   "outputs": [
    {
     "name": "stderr",
     "output_type": "stream",
     "text": [
      "[nltk_data] Error loading stopwords: <urlopen error [Errno -3]\n",
      "[nltk_data]     Temporary failure in name resolution>\n"
     ]
    },
    {
     "data": {
      "text/plain": [
       "False"
      ]
     },
     "execution_count": 21,
     "metadata": {},
     "output_type": "execute_result"
    }
   ],
   "source": [
    "from nltk.corpus import stopwords\n",
    "nltk.download('stopwords')"
   ]
  },
  {
   "cell_type": "code",
   "execution_count": 22,
   "id": "864259bd",
   "metadata": {
    "execution": {
     "iopub.execute_input": "2023-01-01T09:20:59.725921Z",
     "iopub.status.busy": "2023-01-01T09:20:59.725304Z",
     "iopub.status.idle": "2023-01-01T09:20:59.737582Z",
     "shell.execute_reply": "2023-01-01T09:20:59.735547Z"
    },
    "executionInfo": {
     "elapsed": 165,
     "status": "ok",
     "timestamp": 1672563667319,
     "user": {
      "displayName": "Zaid Ahmed",
      "userId": "12461655618258195944"
     },
     "user_tz": -300
    },
    "id": "cSseeckqbgod",
    "papermill": {
     "duration": 0.042674,
     "end_time": "2023-01-01T09:20:59.741068",
     "exception": false,
     "start_time": "2023-01-01T09:20:59.698394",
     "status": "completed"
    },
    "tags": []
   },
   "outputs": [],
   "source": [
    "english_stopwords=stopwords.words(\"english\")"
   ]
  },
  {
   "cell_type": "code",
   "execution_count": 23,
   "id": "d99c0614",
   "metadata": {
    "execution": {
     "iopub.execute_input": "2023-01-01T09:20:59.796731Z",
     "iopub.status.busy": "2023-01-01T09:20:59.796339Z",
     "iopub.status.idle": "2023-01-01T09:20:59.802075Z",
     "shell.execute_reply": "2023-01-01T09:20:59.801468Z"
    },
    "executionInfo": {
     "elapsed": 168,
     "status": "ok",
     "timestamp": 1672563667322,
     "user": {
      "displayName": "Zaid Ahmed",
      "userId": "12461655618258195944"
     },
     "user_tz": -300
    },
    "id": "Q3AgoK1ls5Be",
    "outputId": "2f0ee013-fafb-4e9d-8a67-89235bbf3067",
    "papermill": {
     "duration": 0.035743,
     "end_time": "2023-01-01T09:20:59.804012",
     "exception": false,
     "start_time": "2023-01-01T09:20:59.768269",
     "status": "completed"
    },
    "tags": []
   },
   "outputs": [
    {
     "data": {
      "text/plain": [
       "\"i, me, my, myself, we, our, ours, ourselves, you, you're, you've, you'll, you'd, your, yours, yourself, yourselves, he, him, his, himself, she, she's, her, hers, herself, it, it's, its, itself, they, them, their, theirs, themselves, what, which, who, whom, this, that, that'll, these, those, am, is, are, was, were, be, been, being, have, has, had, having, do, does, did, doing, a, an, the, and, but, if, or, because, as, until, while, of, at, by, for, with, about, against, between, into, through, during, before, after, above, below, to, from, up, down, in, out, on, off, over, under, again, further, then, once, here, there, when, where, why, how, all, any, both, each, few, more, most, other, some, such, no, nor, not, only, own, same, so, than, too, very, s, t, can, will, just, don, don't, should, should've, now, d, ll, m, o, re, ve, y, ain, aren, aren't, couldn, couldn't, didn, didn't, doesn, doesn't, hadn, hadn't, hasn, hasn't, haven, haven't, isn, isn't, ma, mightn, mightn't, mustn, mustn't, needn, needn't, shan, shan't, shouldn, shouldn't, wasn, wasn't, weren, weren't, won, won't, wouldn, wouldn't\""
      ]
     },
     "execution_count": 23,
     "metadata": {},
     "output_type": "execute_result"
    }
   ],
   "source": [
    "\", \".join(english_stopwords)"
   ]
  },
  {
   "cell_type": "code",
   "execution_count": 24,
   "id": "18ba7fe6",
   "metadata": {
    "execution": {
     "iopub.execute_input": "2023-01-01T09:20:59.861801Z",
     "iopub.status.busy": "2023-01-01T09:20:59.861223Z",
     "iopub.status.idle": "2023-01-01T09:20:59.868039Z",
     "shell.execute_reply": "2023-01-01T09:20:59.866349Z"
    },
    "executionInfo": {
     "elapsed": 168,
     "status": "ok",
     "timestamp": 1672563667324,
     "user": {
      "displayName": "Zaid Ahmed",
      "userId": "12461655618258195944"
     },
     "user_tz": -300
    },
    "id": "ThBxckzps5zO",
    "papermill": {
     "duration": 0.040966,
     "end_time": "2023-01-01T09:20:59.870894",
     "exception": false,
     "start_time": "2023-01-01T09:20:59.829928",
     "status": "completed"
    },
    "tags": []
   },
   "outputs": [],
   "source": [
    "def remove_stopwords(tokens):\n",
    "  return[word for word in tokens if word.lower() not in english_stopwords]\n"
   ]
  },
  {
   "cell_type": "code",
   "execution_count": 25,
   "id": "dd3a8302",
   "metadata": {
    "execution": {
     "iopub.execute_input": "2023-01-01T09:20:59.926499Z",
     "iopub.status.busy": "2023-01-01T09:20:59.926089Z",
     "iopub.status.idle": "2023-01-01T09:20:59.930278Z",
     "shell.execute_reply": "2023-01-01T09:20:59.929288Z"
    },
    "executionInfo": {
     "elapsed": 171,
     "status": "ok",
     "timestamp": 1672563667329,
     "user": {
      "displayName": "Zaid Ahmed",
      "userId": "12461655618258195944"
     },
     "user_tz": -300
    },
    "id": "s3t_ugOZs5wh",
    "papermill": {
     "duration": 0.034482,
     "end_time": "2023-01-01T09:20:59.932200",
     "exception": false,
     "start_time": "2023-01-01T09:20:59.897718",
     "status": "completed"
    },
    "tags": []
   },
   "outputs": [],
   "source": [
    "q0_stp=remove_stopwords(q0_tok)"
   ]
  },
  {
   "cell_type": "code",
   "execution_count": 26,
   "id": "754dd38e",
   "metadata": {
    "execution": {
     "iopub.execute_input": "2023-01-01T09:20:59.986090Z",
     "iopub.status.busy": "2023-01-01T09:20:59.985674Z",
     "iopub.status.idle": "2023-01-01T09:20:59.993468Z",
     "shell.execute_reply": "2023-01-01T09:20:59.991493Z"
    },
    "executionInfo": {
     "elapsed": 171,
     "status": "ok",
     "timestamp": 1672563667331,
     "user": {
      "displayName": "Zaid Ahmed",
      "userId": "12461655618258195944"
     },
     "user_tz": -300
    },
    "id": "MdAcqZECs5t3",
    "outputId": "2badf530-3640-4bc9-9ee9-8b22ecea2903",
    "papermill": {
     "duration": 0.037893,
     "end_time": "2023-01-01T09:20:59.995963",
     "exception": false,
     "start_time": "2023-01-01T09:20:59.958070",
     "status": "completed"
    },
    "tags": []
   },
   "outputs": [
    {
     "data": {
      "text/plain": [
       "['Quebec', 'nationalists', 'see', 'province', 'nation', '1960s', '?']"
      ]
     },
     "execution_count": 26,
     "metadata": {},
     "output_type": "execute_result"
    }
   ],
   "source": [
    "q0_stp"
   ]
  },
  {
   "cell_type": "code",
   "execution_count": 27,
   "id": "019cd85d",
   "metadata": {
    "execution": {
     "iopub.execute_input": "2023-01-01T09:21:00.051965Z",
     "iopub.status.busy": "2023-01-01T09:21:00.051571Z",
     "iopub.status.idle": "2023-01-01T09:21:00.058612Z",
     "shell.execute_reply": "2023-01-01T09:21:00.057646Z"
    },
    "executionInfo": {
     "elapsed": 167,
     "status": "ok",
     "timestamp": 1672563667332,
     "user": {
      "displayName": "Zaid Ahmed",
      "userId": "12461655618258195944"
     },
     "user_tz": -300
    },
    "id": "M_GUkl1Fs5rF",
    "outputId": "17aeecdf-035f-489c-d1f7-a1d9dff3280f",
    "papermill": {
     "duration": 0.038404,
     "end_time": "2023-01-01T09:21:00.060678",
     "exception": false,
     "start_time": "2023-01-01T09:21:00.022274",
     "status": "completed"
    },
    "tags": []
   },
   "outputs": [
    {
     "data": {
      "text/plain": [
       "['United', 'States', 'become', 'largest', 'dictatorship', 'world', '?']"
      ]
     },
     "execution_count": 27,
     "metadata": {},
     "output_type": "execute_result"
    }
   ],
   "source": [
    "q1_stp=remove_stopwords(q1_tok)\n",
    "q1_stp"
   ]
  },
  {
   "cell_type": "code",
   "execution_count": 28,
   "id": "5368b756",
   "metadata": {
    "execution": {
     "iopub.execute_input": "2023-01-01T09:21:00.115495Z",
     "iopub.status.busy": "2023-01-01T09:21:00.115076Z",
     "iopub.status.idle": "2023-01-01T09:21:00.120806Z",
     "shell.execute_reply": "2023-01-01T09:21:00.119469Z"
    },
    "executionInfo": {
     "elapsed": 165,
     "status": "ok",
     "timestamp": 1672563667335,
     "user": {
      "displayName": "Zaid Ahmed",
      "userId": "12461655618258195944"
     },
     "user_tz": -300
    },
    "id": "1bYwpGI2s5or",
    "papermill": {
     "duration": 0.03637,
     "end_time": "2023-01-01T09:21:00.124289",
     "exception": false,
     "start_time": "2023-01-01T09:21:00.087919",
     "status": "completed"
    },
    "tags": []
   },
   "outputs": [],
   "source": [
    "from nltk.stem.snowball import SnowballStemmer\n",
    "stemmer =SnowballStemmer(language='english')"
   ]
  },
  {
   "cell_type": "code",
   "execution_count": 29,
   "id": "dea41694",
   "metadata": {
    "execution": {
     "iopub.execute_input": "2023-01-01T09:21:00.182034Z",
     "iopub.status.busy": "2023-01-01T09:21:00.181584Z",
     "iopub.status.idle": "2023-01-01T09:21:00.188442Z",
     "shell.execute_reply": "2023-01-01T09:21:00.186952Z"
    },
    "executionInfo": {
     "elapsed": 168,
     "status": "ok",
     "timestamp": 1672563667339,
     "user": {
      "displayName": "Zaid Ahmed",
      "userId": "12461655618258195944"
     },
     "user_tz": -300
    },
    "id": "lq5vjTZ9s5l0",
    "outputId": "83cbda20-7097-4f57-cb83-4279255c3618",
    "papermill": {
     "duration": 0.037777,
     "end_time": "2023-01-01T09:21:00.190564",
     "exception": false,
     "start_time": "2023-01-01T09:21:00.152787",
     "status": "completed"
    },
    "tags": []
   },
   "outputs": [
    {
     "data": {
      "text/plain": [
       "'go'"
      ]
     },
     "execution_count": 29,
     "metadata": {},
     "output_type": "execute_result"
    }
   ],
   "source": [
    "stemmer.stem('going')"
   ]
  },
  {
   "cell_type": "code",
   "execution_count": 30,
   "id": "a744901e",
   "metadata": {
    "execution": {
     "iopub.execute_input": "2023-01-01T09:21:00.245261Z",
     "iopub.status.busy": "2023-01-01T09:21:00.244898Z",
     "iopub.status.idle": "2023-01-01T09:21:00.249911Z",
     "shell.execute_reply": "2023-01-01T09:21:00.248650Z"
    },
    "executionInfo": {
     "elapsed": 171,
     "status": "ok",
     "timestamp": 1672563667346,
     "user": {
      "displayName": "Zaid Ahmed",
      "userId": "12461655618258195944"
     },
     "user_tz": -300
    },
    "id": "XXrT0Yiqs5i-",
    "papermill": {
     "duration": 0.034361,
     "end_time": "2023-01-01T09:21:00.251849",
     "exception": false,
     "start_time": "2023-01-01T09:21:00.217488",
     "status": "completed"
    },
    "tags": []
   },
   "outputs": [],
   "source": [
    "q0_stm=[stemmer.stem(word) for word in q0_stp]"
   ]
  },
  {
   "cell_type": "code",
   "execution_count": 31,
   "id": "98733739",
   "metadata": {
    "execution": {
     "iopub.execute_input": "2023-01-01T09:21:00.306791Z",
     "iopub.status.busy": "2023-01-01T09:21:00.305780Z",
     "iopub.status.idle": "2023-01-01T09:21:00.311572Z",
     "shell.execute_reply": "2023-01-01T09:21:00.310850Z"
    },
    "executionInfo": {
     "elapsed": 173,
     "status": "ok",
     "timestamp": 1672563667350,
     "user": {
      "displayName": "Zaid Ahmed",
      "userId": "12461655618258195944"
     },
     "user_tz": -300
    },
    "id": "J_-2ybbKw7fl",
    "outputId": "3e6fcedb-d888-43fb-be60-ed134af23457",
    "papermill": {
     "duration": 0.034906,
     "end_time": "2023-01-01T09:21:00.313382",
     "exception": false,
     "start_time": "2023-01-01T09:21:00.278476",
     "status": "completed"
    },
    "tags": []
   },
   "outputs": [
    {
     "data": {
      "text/plain": [
       "['Quebec', 'nationalists', 'see', 'province', 'nation', '1960s', '?']"
      ]
     },
     "execution_count": 31,
     "metadata": {},
     "output_type": "execute_result"
    }
   ],
   "source": [
    "q0_stp"
   ]
  },
  {
   "cell_type": "code",
   "execution_count": 32,
   "id": "be94f4d2",
   "metadata": {
    "execution": {
     "iopub.execute_input": "2023-01-01T09:21:00.368482Z",
     "iopub.status.busy": "2023-01-01T09:21:00.367091Z",
     "iopub.status.idle": "2023-01-01T09:21:00.377916Z",
     "shell.execute_reply": "2023-01-01T09:21:00.376910Z"
    },
    "executionInfo": {
     "elapsed": 169,
     "status": "ok",
     "timestamp": 1672563667352,
     "user": {
      "displayName": "Zaid Ahmed",
      "userId": "12461655618258195944"
     },
     "user_tz": -300
    },
    "id": "Z37jtIKWw7ch",
    "outputId": "8d2aaad1-8d7f-4810-ce36-1cb792e79e0f",
    "papermill": {
     "duration": 0.040197,
     "end_time": "2023-01-01T09:21:00.379964",
     "exception": false,
     "start_time": "2023-01-01T09:21:00.339767",
     "status": "completed"
    },
    "tags": []
   },
   "outputs": [
    {
     "data": {
      "text/plain": [
       "['quebec', 'nationalist', 'see', 'provinc', 'nation', '1960s', '?']"
      ]
     },
     "execution_count": 32,
     "metadata": {},
     "output_type": "execute_result"
    }
   ],
   "source": [
    "q0_stm"
   ]
  },
  {
   "cell_type": "code",
   "execution_count": 33,
   "id": "378beb4a",
   "metadata": {
    "execution": {
     "iopub.execute_input": "2023-01-01T09:21:00.438376Z",
     "iopub.status.busy": "2023-01-01T09:21:00.437802Z",
     "iopub.status.idle": "2023-01-01T09:21:00.442717Z",
     "shell.execute_reply": "2023-01-01T09:21:00.441710Z"
    },
    "executionInfo": {
     "elapsed": 166,
     "status": "ok",
     "timestamp": 1672563667353,
     "user": {
      "displayName": "Zaid Ahmed",
      "userId": "12461655618258195944"
     },
     "user_tz": -300
    },
    "id": "bkt_xgcvw7Y_",
    "papermill": {
     "duration": 0.036591,
     "end_time": "2023-01-01T09:21:00.445006",
     "exception": false,
     "start_time": "2023-01-01T09:21:00.408415",
     "status": "completed"
    },
    "tags": []
   },
   "outputs": [],
   "source": [
    "q1_stm=[stemmer.stem(word) for word in q1_stp]"
   ]
  },
  {
   "cell_type": "code",
   "execution_count": null,
   "id": "23a205e4",
   "metadata": {
    "executionInfo": {
     "elapsed": 167,
     "status": "ok",
     "timestamp": 1672563667354,
     "user": {
      "displayName": "Zaid Ahmed",
      "userId": "12461655618258195944"
     },
     "user_tz": -300
    },
    "id": "LyZyTGO8w7Tv",
    "papermill": {
     "duration": 0.026544,
     "end_time": "2023-01-01T09:21:00.497508",
     "exception": false,
     "start_time": "2023-01-01T09:21:00.470964",
     "status": "completed"
    },
    "tags": []
   },
   "outputs": [],
   "source": []
  },
  {
   "cell_type": "code",
   "execution_count": null,
   "id": "db92044e",
   "metadata": {
    "executionInfo": {
     "elapsed": 169,
     "status": "ok",
     "timestamp": 1672563667357,
     "user": {
      "displayName": "Zaid Ahmed",
      "userId": "12461655618258195944"
     },
     "user_tz": -300
    },
    "id": "ZJ4RWm6Lw7RV",
    "papermill": {
     "duration": 0.02632,
     "end_time": "2023-01-01T09:21:00.552049",
     "exception": false,
     "start_time": "2023-01-01T09:21:00.525729",
     "status": "completed"
    },
    "tags": []
   },
   "outputs": [],
   "source": []
  },
  {
   "cell_type": "code",
   "execution_count": null,
   "id": "974a49ab",
   "metadata": {
    "executionInfo": {
     "elapsed": 173,
     "status": "ok",
     "timestamp": 1672563667361,
     "user": {
      "displayName": "Zaid Ahmed",
      "userId": "12461655618258195944"
     },
     "user_tz": -300
    },
    "id": "1NCjIvqDw7PA",
    "papermill": {
     "duration": 0.027245,
     "end_time": "2023-01-01T09:21:00.606994",
     "exception": false,
     "start_time": "2023-01-01T09:21:00.579749",
     "status": "completed"
    },
    "tags": []
   },
   "outputs": [],
   "source": []
  },
  {
   "cell_type": "code",
   "execution_count": null,
   "id": "ba2418b5",
   "metadata": {
    "executionInfo": {
     "elapsed": 174,
     "status": "ok",
     "timestamp": 1672563667363,
     "user": {
      "displayName": "Zaid Ahmed",
      "userId": "12461655618258195944"
     },
     "user_tz": -300
    },
    "id": "akwyn5Xnw7L7",
    "papermill": {
     "duration": 0.025712,
     "end_time": "2023-01-01T09:21:00.659230",
     "exception": false,
     "start_time": "2023-01-01T09:21:00.633518",
     "status": "completed"
    },
    "tags": []
   },
   "outputs": [],
   "source": []
  },
  {
   "cell_type": "code",
   "execution_count": null,
   "id": "8ad4d5bb",
   "metadata": {
    "executionInfo": {
     "elapsed": 172,
     "status": "ok",
     "timestamp": 1672563667365,
     "user": {
      "displayName": "Zaid Ahmed",
      "userId": "12461655618258195944"
     },
     "user_tz": -300
    },
    "id": "OCUmQW4Uw7H_",
    "papermill": {
     "duration": 0.029239,
     "end_time": "2023-01-01T09:21:00.717558",
     "exception": false,
     "start_time": "2023-01-01T09:21:00.688319",
     "status": "completed"
    },
    "tags": []
   },
   "outputs": [],
   "source": []
  },
  {
   "cell_type": "code",
   "execution_count": null,
   "id": "9f789c93",
   "metadata": {
    "executionInfo": {
     "elapsed": 170,
     "status": "ok",
     "timestamp": 1672563667366,
     "user": {
      "displayName": "Zaid Ahmed",
      "userId": "12461655618258195944"
     },
     "user_tz": -300
    },
    "id": "tDrMbeGOw7FP",
    "papermill": {
     "duration": 0.026047,
     "end_time": "2023-01-01T09:21:00.769970",
     "exception": false,
     "start_time": "2023-01-01T09:21:00.743923",
     "status": "completed"
    },
    "tags": []
   },
   "outputs": [],
   "source": []
  },
  {
   "cell_type": "code",
   "execution_count": null,
   "id": "c9a88add",
   "metadata": {
    "executionInfo": {
     "elapsed": 170,
     "status": "ok",
     "timestamp": 1672563667366,
     "user": {
      "displayName": "Zaid Ahmed",
      "userId": "12461655618258195944"
     },
     "user_tz": -300
    },
    "id": "uCA3au3Ww7CJ",
    "papermill": {
     "duration": 0.026522,
     "end_time": "2023-01-01T09:21:00.822563",
     "exception": false,
     "start_time": "2023-01-01T09:21:00.796041",
     "status": "completed"
    },
    "tags": []
   },
   "outputs": [],
   "source": []
  },
  {
   "cell_type": "code",
   "execution_count": null,
   "id": "92222d61",
   "metadata": {
    "executionInfo": {
     "elapsed": 170,
     "status": "ok",
     "timestamp": 1672563667367,
     "user": {
      "displayName": "Zaid Ahmed",
      "userId": "12461655618258195944"
     },
     "user_tz": -300
    },
    "id": "7Ib8LJRGw6-Y",
    "papermill": {
     "duration": 0.025069,
     "end_time": "2023-01-01T09:21:00.874094",
     "exception": false,
     "start_time": "2023-01-01T09:21:00.849025",
     "status": "completed"
    },
    "tags": []
   },
   "outputs": [],
   "source": []
  },
  {
   "cell_type": "code",
   "execution_count": null,
   "id": "8a4c7524",
   "metadata": {
    "executionInfo": {
     "elapsed": 170,
     "status": "ok",
     "timestamp": 1672563667367,
     "user": {
      "displayName": "Zaid Ahmed",
      "userId": "12461655618258195944"
     },
     "user_tz": -300
    },
    "id": "MZRjyJa5w67P",
    "papermill": {
     "duration": 0.026231,
     "end_time": "2023-01-01T09:21:00.926963",
     "exception": false,
     "start_time": "2023-01-01T09:21:00.900732",
     "status": "completed"
    },
    "tags": []
   },
   "outputs": [],
   "source": []
  },
  {
   "cell_type": "markdown",
   "id": "c136b157",
   "metadata": {
    "id": "fFwYiGYCc7Gl",
    "papermill": {
     "duration": 0.025927,
     "end_time": "2023-01-01T09:21:00.979443",
     "exception": false,
     "start_time": "2023-01-01T09:21:00.953516",
     "status": "completed"
    },
    "tags": []
   },
   "source": [
    "[link text](https://)## text preprocessing techniques"
   ]
  },
  {
   "cell_type": "markdown",
   "id": "dee335d2",
   "metadata": {
    "id": "_aMax73WdFvt",
    "papermill": {
     "duration": 0.027008,
     "end_time": "2023-01-01T09:21:01.034068",
     "exception": false,
     "start_time": "2023-01-01T09:21:01.007060",
     "status": "completed"
    },
    "tags": []
   },
   "source": [
    "##implement bag of words\n",
    "     "
   ]
  },
  {
   "cell_type": "code",
   "execution_count": 34,
   "id": "29b79591",
   "metadata": {
    "execution": {
     "iopub.execute_input": "2023-01-01T09:21:01.090896Z",
     "iopub.status.busy": "2023-01-01T09:21:01.090371Z",
     "iopub.status.idle": "2023-01-01T09:21:01.101948Z",
     "shell.execute_reply": "2023-01-01T09:21:01.101058Z"
    },
    "executionInfo": {
     "elapsed": 170,
     "status": "ok",
     "timestamp": 1672563667368,
     "user": {
      "displayName": "Zaid Ahmed",
      "userId": "12461655618258195944"
     },
     "user_tz": -300
    },
    "id": "VmKdoGOc7_Yt",
    "outputId": "4df6cb49-835d-48a0-a38b-60e0c77d7ddb",
    "papermill": {
     "duration": 0.042108,
     "end_time": "2023-01-01T09:21:01.104126",
     "exception": false,
     "start_time": "2023-01-01T09:21:01.062018",
     "status": "completed"
    },
    "tags": []
   },
   "outputs": [
    {
     "data": {
      "text/html": [
       "<div>\n",
       "<style scoped>\n",
       "    .dataframe tbody tr th:only-of-type {\n",
       "        vertical-align: middle;\n",
       "    }\n",
       "\n",
       "    .dataframe tbody tr th {\n",
       "        vertical-align: top;\n",
       "    }\n",
       "\n",
       "    .dataframe thead th {\n",
       "        text-align: right;\n",
       "    }\n",
       "</style>\n",
       "<table border=\"1\" class=\"dataframe\">\n",
       "  <thead>\n",
       "    <tr style=\"text-align: right;\">\n",
       "      <th></th>\n",
       "      <th>qid</th>\n",
       "      <th>question_text</th>\n",
       "      <th>target</th>\n",
       "    </tr>\n",
       "  </thead>\n",
       "  <tbody>\n",
       "    <tr>\n",
       "      <th>443046</th>\n",
       "      <td>56d324bb1e2c29f43b12</td>\n",
       "      <td>What is the most effective classroom managemen...</td>\n",
       "      <td>0</td>\n",
       "    </tr>\n",
       "    <tr>\n",
       "      <th>947549</th>\n",
       "      <td>b9ad893dc78c577f8a63</td>\n",
       "      <td>Can I study abroad after 10th class from Bangl...</td>\n",
       "      <td>0</td>\n",
       "    </tr>\n",
       "    <tr>\n",
       "      <th>523769</th>\n",
       "      <td>6689ebaeeb65b209a412</td>\n",
       "      <td>How can I make friends as a college junior?</td>\n",
       "      <td>0</td>\n",
       "    </tr>\n",
       "    <tr>\n",
       "      <th>949821</th>\n",
       "      <td>ba1e2c4a0fef09671516</td>\n",
       "      <td>How do I download free APK Minecraft: Pocket E...</td>\n",
       "      <td>0</td>\n",
       "    </tr>\n",
       "    <tr>\n",
       "      <th>1030397</th>\n",
       "      <td>c9ea2b69bf0d74626f46</td>\n",
       "      <td>Like Kuvera, is \"Groww\" also a free online inv...</td>\n",
       "      <td>0</td>\n",
       "    </tr>\n",
       "    <tr>\n",
       "      <th>...</th>\n",
       "      <td>...</td>\n",
       "      <td>...</td>\n",
       "      <td>...</td>\n",
       "    </tr>\n",
       "    <tr>\n",
       "      <th>998930</th>\n",
       "      <td>c3c03a307a29c69971b4</td>\n",
       "      <td>How do I research list of reliable charcoal im...</td>\n",
       "      <td>0</td>\n",
       "    </tr>\n",
       "    <tr>\n",
       "      <th>66641</th>\n",
       "      <td>0d119aba95ee6684f506</td>\n",
       "      <td>What are petroleum products, and what is petro...</td>\n",
       "      <td>0</td>\n",
       "    </tr>\n",
       "    <tr>\n",
       "      <th>90024</th>\n",
       "      <td>11a46cd148a104b271cf</td>\n",
       "      <td>What are some services that will let you quick...</td>\n",
       "      <td>0</td>\n",
       "    </tr>\n",
       "    <tr>\n",
       "      <th>130113</th>\n",
       "      <td>1973e6e2111a0c93193a</td>\n",
       "      <td>What credit card processors do online marketpl...</td>\n",
       "      <td>0</td>\n",
       "    </tr>\n",
       "    <tr>\n",
       "      <th>1137</th>\n",
       "      <td>0037ed037520d82393c0</td>\n",
       "      <td>On which number system does a computer work?</td>\n",
       "      <td>0</td>\n",
       "    </tr>\n",
       "  </tbody>\n",
       "</table>\n",
       "<p>100000 rows × 3 columns</p>\n",
       "</div>"
      ],
      "text/plain": [
       "                          qid  \\\n",
       "443046   56d324bb1e2c29f43b12   \n",
       "947549   b9ad893dc78c577f8a63   \n",
       "523769   6689ebaeeb65b209a412   \n",
       "949821   ba1e2c4a0fef09671516   \n",
       "1030397  c9ea2b69bf0d74626f46   \n",
       "...                       ...   \n",
       "998930   c3c03a307a29c69971b4   \n",
       "66641    0d119aba95ee6684f506   \n",
       "90024    11a46cd148a104b271cf   \n",
       "130113   1973e6e2111a0c93193a   \n",
       "1137     0037ed037520d82393c0   \n",
       "\n",
       "                                             question_text  target  \n",
       "443046   What is the most effective classroom managemen...       0  \n",
       "947549   Can I study abroad after 10th class from Bangl...       0  \n",
       "523769         How can I make friends as a college junior?       0  \n",
       "949821   How do I download free APK Minecraft: Pocket E...       0  \n",
       "1030397  Like Kuvera, is \"Groww\" also a free online inv...       0  \n",
       "...                                                    ...     ...  \n",
       "998930   How do I research list of reliable charcoal im...       0  \n",
       "66641    What are petroleum products, and what is petro...       0  \n",
       "90024    What are some services that will let you quick...       0  \n",
       "130113   What credit card processors do online marketpl...       0  \n",
       "1137          On which number system does a computer work?       0  \n",
       "\n",
       "[100000 rows x 3 columns]"
      ]
     },
     "execution_count": 34,
     "metadata": {},
     "output_type": "execute_result"
    }
   ],
   "source": [
    "sample_df"
   ]
  },
  {
   "cell_type": "code",
   "execution_count": 35,
   "id": "bb4ff646",
   "metadata": {
    "execution": {
     "iopub.execute_input": "2023-01-01T09:21:01.159881Z",
     "iopub.status.busy": "2023-01-01T09:21:01.159360Z",
     "iopub.status.idle": "2023-01-01T09:21:01.163597Z",
     "shell.execute_reply": "2023-01-01T09:21:01.162968Z"
    },
    "executionInfo": {
     "elapsed": 168,
     "status": "ok",
     "timestamp": 1672563667368,
     "user": {
      "displayName": "Zaid Ahmed",
      "userId": "12461655618258195944"
     },
     "user_tz": -300
    },
    "id": "YXUBgqy57_V_",
    "papermill": {
     "duration": 0.034311,
     "end_time": "2023-01-01T09:21:01.165389",
     "exception": false,
     "start_time": "2023-01-01T09:21:01.131078",
     "status": "completed"
    },
    "tags": []
   },
   "outputs": [],
   "source": [
    "small_df=sample_df[:5]"
   ]
  },
  {
   "cell_type": "code",
   "execution_count": 36,
   "id": "8863272b",
   "metadata": {
    "execution": {
     "iopub.execute_input": "2023-01-01T09:21:01.220827Z",
     "iopub.status.busy": "2023-01-01T09:21:01.220325Z",
     "iopub.status.idle": "2023-01-01T09:21:01.229621Z",
     "shell.execute_reply": "2023-01-01T09:21:01.228737Z"
    },
    "executionInfo": {
     "elapsed": 169,
     "status": "ok",
     "timestamp": 1672563667369,
     "user": {
      "displayName": "Zaid Ahmed",
      "userId": "12461655618258195944"
     },
     "user_tz": -300
    },
    "id": "TopLmWDu7_TT",
    "outputId": "b97d09d6-84fd-438f-e135-86ea8a493483",
    "papermill": {
     "duration": 0.039294,
     "end_time": "2023-01-01T09:21:01.231488",
     "exception": false,
     "start_time": "2023-01-01T09:21:01.192194",
     "status": "completed"
    },
    "tags": []
   },
   "outputs": [
    {
     "data": {
      "text/html": [
       "<div>\n",
       "<style scoped>\n",
       "    .dataframe tbody tr th:only-of-type {\n",
       "        vertical-align: middle;\n",
       "    }\n",
       "\n",
       "    .dataframe tbody tr th {\n",
       "        vertical-align: top;\n",
       "    }\n",
       "\n",
       "    .dataframe thead th {\n",
       "        text-align: right;\n",
       "    }\n",
       "</style>\n",
       "<table border=\"1\" class=\"dataframe\">\n",
       "  <thead>\n",
       "    <tr style=\"text-align: right;\">\n",
       "      <th></th>\n",
       "      <th>qid</th>\n",
       "      <th>question_text</th>\n",
       "      <th>target</th>\n",
       "    </tr>\n",
       "  </thead>\n",
       "  <tbody>\n",
       "    <tr>\n",
       "      <th>443046</th>\n",
       "      <td>56d324bb1e2c29f43b12</td>\n",
       "      <td>What is the most effective classroom managemen...</td>\n",
       "      <td>0</td>\n",
       "    </tr>\n",
       "    <tr>\n",
       "      <th>947549</th>\n",
       "      <td>b9ad893dc78c577f8a63</td>\n",
       "      <td>Can I study abroad after 10th class from Bangl...</td>\n",
       "      <td>0</td>\n",
       "    </tr>\n",
       "    <tr>\n",
       "      <th>523769</th>\n",
       "      <td>6689ebaeeb65b209a412</td>\n",
       "      <td>How can I make friends as a college junior?</td>\n",
       "      <td>0</td>\n",
       "    </tr>\n",
       "    <tr>\n",
       "      <th>949821</th>\n",
       "      <td>ba1e2c4a0fef09671516</td>\n",
       "      <td>How do I download free APK Minecraft: Pocket E...</td>\n",
       "      <td>0</td>\n",
       "    </tr>\n",
       "    <tr>\n",
       "      <th>1030397</th>\n",
       "      <td>c9ea2b69bf0d74626f46</td>\n",
       "      <td>Like Kuvera, is \"Groww\" also a free online inv...</td>\n",
       "      <td>0</td>\n",
       "    </tr>\n",
       "  </tbody>\n",
       "</table>\n",
       "</div>"
      ],
      "text/plain": [
       "                          qid  \\\n",
       "443046   56d324bb1e2c29f43b12   \n",
       "947549   b9ad893dc78c577f8a63   \n",
       "523769   6689ebaeeb65b209a412   \n",
       "949821   ba1e2c4a0fef09671516   \n",
       "1030397  c9ea2b69bf0d74626f46   \n",
       "\n",
       "                                             question_text  target  \n",
       "443046   What is the most effective classroom managemen...       0  \n",
       "947549   Can I study abroad after 10th class from Bangl...       0  \n",
       "523769         How can I make friends as a college junior?       0  \n",
       "949821   How do I download free APK Minecraft: Pocket E...       0  \n",
       "1030397  Like Kuvera, is \"Groww\" also a free online inv...       0  "
      ]
     },
     "execution_count": 36,
     "metadata": {},
     "output_type": "execute_result"
    }
   ],
   "source": [
    "small_df"
   ]
  },
  {
   "cell_type": "code",
   "execution_count": 37,
   "id": "4f953c5d",
   "metadata": {
    "execution": {
     "iopub.execute_input": "2023-01-01T09:21:01.286064Z",
     "iopub.status.busy": "2023-01-01T09:21:01.285518Z",
     "iopub.status.idle": "2023-01-01T09:21:01.290316Z",
     "shell.execute_reply": "2023-01-01T09:21:01.289105Z"
    },
    "executionInfo": {
     "elapsed": 167,
     "status": "ok",
     "timestamp": 1672563667369,
     "user": {
      "displayName": "Zaid Ahmed",
      "userId": "12461655618258195944"
     },
     "user_tz": -300
    },
    "id": "JXv_60PE7_Qb",
    "papermill": {
     "duration": 0.035138,
     "end_time": "2023-01-01T09:21:01.292924",
     "exception": false,
     "start_time": "2023-01-01T09:21:01.257786",
     "status": "completed"
    },
    "tags": []
   },
   "outputs": [],
   "source": [
    " from sklearn.feature_extraction.text import CountVectorizer"
   ]
  },
  {
   "cell_type": "code",
   "execution_count": 38,
   "id": "991e1b4b",
   "metadata": {
    "execution": {
     "iopub.execute_input": "2023-01-01T09:21:01.351107Z",
     "iopub.status.busy": "2023-01-01T09:21:01.349805Z",
     "iopub.status.idle": "2023-01-01T09:21:01.356767Z",
     "shell.execute_reply": "2023-01-01T09:21:01.355298Z"
    },
    "executionInfo": {
     "elapsed": 168,
     "status": "ok",
     "timestamp": 1672563667370,
     "user": {
      "displayName": "Zaid Ahmed",
      "userId": "12461655618258195944"
     },
     "user_tz": -300
    },
    "id": "2qIHqXlp7_Ib",
    "papermill": {
     "duration": 0.038237,
     "end_time": "2023-01-01T09:21:01.359503",
     "exception": false,
     "start_time": "2023-01-01T09:21:01.321266",
     "status": "completed"
    },
    "tags": []
   },
   "outputs": [],
   "source": [
    "small_vect=CountVectorizer()"
   ]
  },
  {
   "cell_type": "code",
   "execution_count": 39,
   "id": "e339035a",
   "metadata": {
    "execution": {
     "iopub.execute_input": "2023-01-01T09:21:01.420839Z",
     "iopub.status.busy": "2023-01-01T09:21:01.419218Z",
     "iopub.status.idle": "2023-01-01T09:21:01.435750Z",
     "shell.execute_reply": "2023-01-01T09:21:01.434591Z"
    },
    "executionInfo": {
     "elapsed": 167,
     "status": "ok",
     "timestamp": 1672563667370,
     "user": {
      "displayName": "Zaid Ahmed",
      "userId": "12461655618258195944"
     },
     "user_tz": -300
    },
    "id": "3HTM4jtHAx-L",
    "outputId": "9de81718-b48a-4b98-ddd5-0845ec97fec9",
    "papermill": {
     "duration": 0.049686,
     "end_time": "2023-01-01T09:21:01.437941",
     "exception": false,
     "start_time": "2023-01-01T09:21:01.388255",
     "status": "completed"
    },
    "tags": []
   },
   "outputs": [
    {
     "data": {
      "text/plain": [
       "CountVectorizer()"
      ]
     },
     "execution_count": 39,
     "metadata": {},
     "output_type": "execute_result"
    }
   ],
   "source": [
    "small_vect.fit(small_df.question_text)"
   ]
  },
  {
   "cell_type": "code",
   "execution_count": 40,
   "id": "0bd491fc",
   "metadata": {
    "execution": {
     "iopub.execute_input": "2023-01-01T09:21:01.495086Z",
     "iopub.status.busy": "2023-01-01T09:21:01.494650Z",
     "iopub.status.idle": "2023-01-01T09:21:01.504889Z",
     "shell.execute_reply": "2023-01-01T09:21:01.503630Z"
    },
    "executionInfo": {
     "elapsed": 159,
     "status": "ok",
     "timestamp": 1672563667371,
     "user": {
      "displayName": "Zaid Ahmed",
      "userId": "12461655618258195944"
     },
     "user_tz": -300
    },
    "id": "t-sD5lwuAx6S",
    "outputId": "e154e6f0-4a10-499c-89c7-7cc9cd8a5077",
    "papermill": {
     "duration": 0.041611,
     "end_time": "2023-01-01T09:21:01.506851",
     "exception": false,
     "start_time": "2023-01-01T09:21:01.465240",
     "status": "completed"
    },
    "tags": []
   },
   "outputs": [
    {
     "data": {
      "text/plain": [
       "{'what': 49,\n",
       " 'is': 31,\n",
       " 'the': 47,\n",
       " 'most': 39,\n",
       " 'effective': 16,\n",
       " 'classroom': 9,\n",
       " 'management': 37,\n",
       " 'skill': 44,\n",
       " 'technique': 46,\n",
       " 'to': 48,\n",
       " 'create': 11,\n",
       " 'good': 23,\n",
       " 'learning': 34,\n",
       " 'environment': 17,\n",
       " 'can': 7,\n",
       " 'study': 45,\n",
       " 'abroad': 1,\n",
       " 'after': 2,\n",
       " '10th': 0,\n",
       " 'class': 8,\n",
       " 'from': 21,\n",
       " 'bangladesh': 6,\n",
       " 'how': 25,\n",
       " 'make': 36,\n",
       " 'friends': 20,\n",
       " 'as': 5,\n",
       " 'college': 10,\n",
       " 'junior': 32,\n",
       " 'do': 13,\n",
       " 'download': 14,\n",
       " 'free': 19,\n",
       " 'apk': 4,\n",
       " 'minecraft': 38,\n",
       " 'pocket': 43,\n",
       " 'edition': 15,\n",
       " 'for': 18,\n",
       " 'ios': 29,\n",
       " 'iphone': 30,\n",
       " 'like': 35,\n",
       " 'kuvera': 33,\n",
       " 'groww': 24,\n",
       " 'also': 3,\n",
       " 'online': 41,\n",
       " 'investment': 28,\n",
       " 'platform': 42,\n",
       " 'where': 50,\n",
       " 'invest': 27,\n",
       " 'in': 26,\n",
       " 'direct': 12,\n",
       " 'mutual': 40,\n",
       " 'funds': 22}"
      ]
     },
     "execution_count": 40,
     "metadata": {},
     "output_type": "execute_result"
    }
   ],
   "source": [
    "small_vect.vocabulary_"
   ]
  },
  {
   "cell_type": "code",
   "execution_count": 41,
   "id": "b4303cd5",
   "metadata": {
    "execution": {
     "iopub.execute_input": "2023-01-01T09:21:01.563933Z",
     "iopub.status.busy": "2023-01-01T09:21:01.563564Z",
     "iopub.status.idle": "2023-01-01T09:21:01.569301Z",
     "shell.execute_reply": "2023-01-01T09:21:01.568186Z"
    },
    "executionInfo": {
     "elapsed": 155,
     "status": "ok",
     "timestamp": 1672563667371,
     "user": {
      "displayName": "Zaid Ahmed",
      "userId": "12461655618258195944"
     },
     "user_tz": -300
    },
    "id": "XHcXMr71Ax3O",
    "papermill": {
     "duration": 0.036217,
     "end_time": "2023-01-01T09:21:01.571281",
     "exception": false,
     "start_time": "2023-01-01T09:21:01.535064",
     "status": "completed"
    },
    "tags": []
   },
   "outputs": [],
   "source": [
    "vectors=small_vect.transform(small_df.question_text)"
   ]
  },
  {
   "cell_type": "code",
   "execution_count": 42,
   "id": "cf8bedac",
   "metadata": {
    "execution": {
     "iopub.execute_input": "2023-01-01T09:21:01.628423Z",
     "iopub.status.busy": "2023-01-01T09:21:01.628000Z",
     "iopub.status.idle": "2023-01-01T09:21:01.636723Z",
     "shell.execute_reply": "2023-01-01T09:21:01.634694Z"
    },
    "executionInfo": {
     "elapsed": 156,
     "status": "ok",
     "timestamp": 1672563667372,
     "user": {
      "displayName": "Zaid Ahmed",
      "userId": "12461655618258195944"
     },
     "user_tz": -300
    },
    "id": "UN32oUvmAxzm",
    "outputId": "926d9cd3-b465-4dab-bc6b-18d1a8320e7f",
    "papermill": {
     "duration": 0.039983,
     "end_time": "2023-01-01T09:21:01.638980",
     "exception": false,
     "start_time": "2023-01-01T09:21:01.598997",
     "status": "completed"
    },
    "tags": []
   },
   "outputs": [
    {
     "data": {
      "text/plain": [
       "(5, 51)"
      ]
     },
     "execution_count": 42,
     "metadata": {},
     "output_type": "execute_result"
    }
   ],
   "source": [
    "vectors.shape"
   ]
  },
  {
   "cell_type": "code",
   "execution_count": 43,
   "id": "c2e57258",
   "metadata": {
    "execution": {
     "iopub.execute_input": "2023-01-01T09:21:01.696338Z",
     "iopub.status.busy": "2023-01-01T09:21:01.695909Z",
     "iopub.status.idle": "2023-01-01T09:21:01.701491Z",
     "shell.execute_reply": "2023-01-01T09:21:01.700780Z"
    },
    "executionInfo": {
     "elapsed": 155,
     "status": "ok",
     "timestamp": 1672563667376,
     "user": {
      "displayName": "Zaid Ahmed",
      "userId": "12461655618258195944"
     },
     "user_tz": -300
    },
    "id": "Fo-JgmQMAxrX",
    "papermill": {
     "duration": 0.036282,
     "end_time": "2023-01-01T09:21:01.703384",
     "exception": false,
     "start_time": "2023-01-01T09:21:01.667102",
     "status": "completed"
    },
    "tags": []
   },
   "outputs": [],
   "source": [
    "stemmer =SnowballStemmer(language='english')\n",
    "\n",
    "def tokenize(text):\n",
    "  return[ word for word in word_tokenize(text)]\n"
   ]
  },
  {
   "cell_type": "code",
   "execution_count": 44,
   "id": "4e7f6408",
   "metadata": {
    "execution": {
     "iopub.execute_input": "2023-01-01T09:21:01.759368Z",
     "iopub.status.busy": "2023-01-01T09:21:01.758951Z",
     "iopub.status.idle": "2023-01-01T09:21:01.764620Z",
     "shell.execute_reply": "2023-01-01T09:21:01.763475Z"
    },
    "executionInfo": {
     "elapsed": 156,
     "status": "ok",
     "timestamp": 1672563667378,
     "user": {
      "displayName": "Zaid Ahmed",
      "userId": "12461655618258195944"
     },
     "user_tz": -300
    },
    "id": "LmWOM4vcE3lk",
    "papermill": {
     "duration": 0.036095,
     "end_time": "2023-01-01T09:21:01.766496",
     "exception": false,
     "start_time": "2023-01-01T09:21:01.730401",
     "status": "completed"
    },
    "tags": []
   },
   "outputs": [],
   "source": [
    "vectorizer=CountVectorizer(lowercase=True,\n",
    "                           tokenizer=tokenize,\n",
    "                           stop_words=english_stopwords,\n",
    "                           max_features=1000)"
   ]
  },
  {
   "cell_type": "code",
   "execution_count": 45,
   "id": "9099e993",
   "metadata": {
    "execution": {
     "iopub.execute_input": "2023-01-01T09:21:01.893665Z",
     "iopub.status.busy": "2023-01-01T09:21:01.893299Z",
     "iopub.status.idle": "2023-01-01T09:21:15.713657Z",
     "shell.execute_reply": "2023-01-01T09:21:15.712533Z"
    },
    "executionInfo": {
     "elapsed": 15760,
     "status": "ok",
     "timestamp": 1672563682984,
     "user": {
      "displayName": "Zaid Ahmed",
      "userId": "12461655618258195944"
     },
     "user_tz": -300
    },
    "id": "EABHOsTgE3jU",
    "outputId": "33555c98-9754-482a-d602-9d240ee7affb",
    "papermill": {
     "duration": 13.922319,
     "end_time": "2023-01-01T09:21:15.716405",
     "exception": false,
     "start_time": "2023-01-01T09:21:01.794086",
     "status": "completed"
    },
    "tags": []
   },
   "outputs": [
    {
     "name": "stderr",
     "output_type": "stream",
     "text": [
      "/opt/conda/lib/python3.7/site-packages/sklearn/feature_extraction/text.py:517: UserWarning: The parameter 'token_pattern' will not be used since 'tokenizer' is not None'\n",
      "  \"The parameter 'token_pattern' will not be used\"\n",
      "/opt/conda/lib/python3.7/site-packages/sklearn/feature_extraction/text.py:401: UserWarning: Your stop_words may be inconsistent with your preprocessing. Tokenizing the stop words generated tokens [\"'d\", \"'ll\", \"'re\", \"'s\", \"'ve\", 'could', 'might', 'must', \"n't\", 'need', 'sha', 'wo', 'would'] not in stop_words.\n",
      "  % sorted(inconsistent)\n"
     ]
    },
    {
     "data": {
      "text/plain": [
       "CountVectorizer(max_features=1000,\n",
       "                stop_words=['i', 'me', 'my', 'myself', 'we', 'our', 'ours',\n",
       "                            'ourselves', 'you', \"you're\", \"you've\", \"you'll\",\n",
       "                            \"you'd\", 'your', 'yours', 'yourself', 'yourselves',\n",
       "                            'he', 'him', 'his', 'himself', 'she', \"she's\",\n",
       "                            'her', 'hers', 'herself', 'it', \"it's\", 'its',\n",
       "                            'itself', ...],\n",
       "                tokenizer=<function tokenize at 0x7fe5c0099b00>)"
      ]
     },
     "execution_count": 45,
     "metadata": {},
     "output_type": "execute_result"
    }
   ],
   "source": [
    "vectorizer.fit(sample_df.question_text)"
   ]
  },
  {
   "cell_type": "code",
   "execution_count": 46,
   "id": "254a3b2c",
   "metadata": {
    "execution": {
     "iopub.execute_input": "2023-01-01T09:21:15.776268Z",
     "iopub.status.busy": "2023-01-01T09:21:15.775876Z",
     "iopub.status.idle": "2023-01-01T09:21:15.783675Z",
     "shell.execute_reply": "2023-01-01T09:21:15.782729Z"
    },
    "executionInfo": {
     "elapsed": 23,
     "status": "ok",
     "timestamp": 1672563682987,
     "user": {
      "displayName": "Zaid Ahmed",
      "userId": "12461655618258195944"
     },
     "user_tz": -300
    },
    "id": "91emDreUE3gw",
    "outputId": "eca64cc8-4655-4ad9-fb6a-4a86180a06dc",
    "papermill": {
     "duration": 0.038909,
     "end_time": "2023-01-01T09:21:15.785501",
     "exception": false,
     "start_time": "2023-01-01T09:21:15.746592",
     "status": "completed"
    },
    "tags": []
   },
   "outputs": [
    {
     "data": {
      "text/plain": [
       "array(['!', '$', '%', '&', \"'\", \"''\", \"'m\", \"'re\", \"'s\", \"'ve\", '(', ')',\n",
       "       '+', ',', '-', '.', '1', '10', '100', '11', '12', '12th', '15',\n",
       "       '2', '20', '2017', '2018', '3', '30', '4', '5', '6', '7', '8', ':',\n",
       "       ';', '?', '[', ']', '``', 'able', 'abroad', 'accept', 'access',\n",
       "       'accomplishments', 'according', 'account', 'act', 'actually',\n",
       "       'add', 'admission', 'adult', 'advanced', 'advantages', 'advice',\n",
       "       'affect', 'africa', 'african', 'age', 'ago', 'air', 'allow',\n",
       "       'allowed', 'almost', 'alone', 'along', 'already', 'also', 'always',\n",
       "       'amazon', 'america', 'american', 'americans', 'among', 'amount',\n",
       "       'analysis', 'ancient', 'android', 'animal', 'animals', 'anime',\n",
       "       'another', 'answer', 'answers', 'anxiety', 'anyone', 'anything',\n",
       "       'app', 'apple', 'application', 'apply', 'apps', 'area', 'army',\n",
       "       'around', 'art', 'asian', 'ask', 'asked', 'attack'], dtype=object)"
      ]
     },
     "execution_count": 46,
     "metadata": {},
     "output_type": "execute_result"
    }
   ],
   "source": [
    "vectorizer.get_feature_names_out()[:100]"
   ]
  },
  {
   "cell_type": "code",
   "execution_count": 47,
   "id": "3624896e",
   "metadata": {
    "execution": {
     "iopub.execute_input": "2023-01-01T09:21:15.856323Z",
     "iopub.status.busy": "2023-01-01T09:21:15.855687Z",
     "iopub.status.idle": "2023-01-01T09:21:29.178138Z",
     "shell.execute_reply": "2023-01-01T09:21:29.176714Z"
    },
    "executionInfo": {
     "elapsed": 15109,
     "status": "ok",
     "timestamp": 1672563698075,
     "user": {
      "displayName": "Zaid Ahmed",
      "userId": "12461655618258195944"
     },
     "user_tz": -300
    },
    "id": "BoOmGt2PE3et",
    "papermill": {
     "duration": 13.361259,
     "end_time": "2023-01-01T09:21:29.180860",
     "exception": false,
     "start_time": "2023-01-01T09:21:15.819601",
     "status": "completed"
    },
    "tags": []
   },
   "outputs": [],
   "source": [
    "inputs=vectorizer.transform(sample_df.question_text)"
   ]
  },
  {
   "cell_type": "code",
   "execution_count": 48,
   "id": "73e89ba1",
   "metadata": {
    "execution": {
     "iopub.execute_input": "2023-01-01T09:21:29.237948Z",
     "iopub.status.busy": "2023-01-01T09:21:29.237573Z",
     "iopub.status.idle": "2023-01-01T09:21:29.245911Z",
     "shell.execute_reply": "2023-01-01T09:21:29.244749Z"
    },
    "executionInfo": {
     "elapsed": 19,
     "status": "ok",
     "timestamp": 1672563698076,
     "user": {
      "displayName": "Zaid Ahmed",
      "userId": "12461655618258195944"
     },
     "user_tz": -300
    },
    "id": "m9FsqQjXE3b5",
    "outputId": "2d31f5bb-5b44-4968-c001-bdc013a58614",
    "papermill": {
     "duration": 0.040043,
     "end_time": "2023-01-01T09:21:29.248662",
     "exception": false,
     "start_time": "2023-01-01T09:21:29.208619",
     "status": "completed"
    },
    "tags": []
   },
   "outputs": [
    {
     "data": {
      "text/plain": [
       "array([[0, 0, 0, 0, 0, 0, 0, 0, 0, 0, 0, 0, 0, 0, 0, 0, 0, 0, 0, 0, 0, 0,\n",
       "        0, 0, 0, 0, 0, 0, 0, 0, 0, 0, 0, 0, 0, 0, 1, 0, 0, 0, 0, 0, 0, 0,\n",
       "        0, 0, 0, 0, 0, 0, 0, 0, 0, 0, 0, 0, 0, 0, 0, 0, 0, 0, 0, 0, 0, 0,\n",
       "        0, 0, 0, 0, 0, 0, 0, 0, 0, 0, 0, 0, 0, 0, 0, 0, 0, 0, 0, 0, 0, 0,\n",
       "        0, 0, 0, 0, 0, 0, 0, 0, 0, 0, 0, 0, 0, 0, 0, 0, 0, 0, 0, 0, 0, 0,\n",
       "        0, 0, 0, 0, 0, 0, 0, 0, 0, 0, 0, 0, 0, 0, 0, 0, 0, 0, 0, 0, 0, 0,\n",
       "        0, 0, 0, 0, 0, 0, 0, 0, 0, 0, 0, 0, 0, 0, 0, 0, 0, 0, 0, 0, 0, 0,\n",
       "        0, 0, 0, 0, 0, 0, 0, 0, 0, 0, 0, 0, 0, 0, 0, 0, 0, 0, 0, 0, 0, 0,\n",
       "        0, 0, 0, 0, 0, 0, 0, 0, 0, 0, 0, 0, 0, 0, 0, 0, 0, 0, 0, 0, 0, 0,\n",
       "        0, 0, 0, 0, 0, 0, 0, 0, 0, 0, 0, 0, 0, 0, 0, 0, 0, 0, 0, 0, 0, 0,\n",
       "        0, 0, 0, 0, 1, 0, 0, 0, 0, 0, 0, 0, 0, 0, 0, 0, 0, 0, 0, 0, 0, 0,\n",
       "        0, 0, 0, 0, 0, 0, 0, 0, 0, 0, 0, 0, 0, 0, 0, 0, 0, 0, 0, 0, 0, 0,\n",
       "        0, 0, 0, 0, 0, 0, 0, 0, 0, 0, 0, 0, 0, 0, 0, 0, 0, 0, 0, 0, 0, 0,\n",
       "        0, 1, 0, 0, 0, 0, 0, 0, 0, 0, 0, 0, 0, 0, 0, 0, 0, 0, 0, 0, 0, 0,\n",
       "        0, 0, 0, 0, 0, 0, 0, 0, 0, 0, 0, 0, 0, 0, 0, 0, 0, 0, 0, 0, 0, 0,\n",
       "        0, 0, 0, 0, 0, 0, 0, 0, 0, 0, 0, 0, 0, 0, 0, 0, 0, 0, 0, 0, 0, 0,\n",
       "        0, 0, 0, 0, 0, 0, 0, 0, 0, 0, 0, 0, 0, 0, 0, 0, 0, 0, 0, 0, 0, 0,\n",
       "        0, 0, 0, 0, 0, 0, 0, 0, 0, 0, 0, 0, 0, 0, 0, 1, 0, 0, 0, 0, 0, 0,\n",
       "        0, 0, 0, 0, 0, 0, 0, 0, 0, 0, 0, 0, 0, 0, 0, 0, 0, 0, 0, 0, 0, 0,\n",
       "        0, 0, 0, 0, 0, 0, 0, 0, 0, 0, 0, 0, 0, 0, 0, 0, 0, 0, 0, 0, 0, 0,\n",
       "        0, 0, 0, 0, 0, 0, 0, 0, 0, 0, 0, 0, 0, 0, 0, 0, 0, 0, 0, 0, 0, 0,\n",
       "        0, 0, 0, 0, 0, 0, 0, 0, 0, 0, 0, 0, 0, 0, 0, 0, 0, 0, 0, 0, 0, 0,\n",
       "        0, 0, 0, 0, 0, 0, 0, 0, 0, 0, 0, 0, 0, 0, 1, 0, 0, 0, 0, 0, 0, 0,\n",
       "        0, 0, 0, 0, 0, 0, 0, 0, 0, 0, 0, 0, 0, 0, 0, 0, 0, 0, 0, 0, 0, 0,\n",
       "        0, 0, 0, 0, 0, 0, 0, 0, 0, 0, 0, 0, 1, 0, 0, 0, 0, 0, 0, 0, 0, 0,\n",
       "        0, 0, 0, 0, 0, 0, 0, 0, 0, 0, 0, 0, 0, 0, 0, 0, 0, 0, 0, 0, 0, 0,\n",
       "        0, 0, 0, 0, 0, 0, 0, 0, 0, 0, 0, 0, 0, 0, 0, 0, 0, 0, 0, 0, 0, 0,\n",
       "        0, 0, 0, 0, 0, 0, 0, 0, 0, 0, 0, 0, 0, 0, 0, 0, 0, 0, 0, 0, 0, 0,\n",
       "        0, 0, 0, 0, 0, 0, 0, 0, 0, 0, 0, 0, 0, 0, 0, 0, 0, 0, 0, 0, 0, 0,\n",
       "        0, 0, 0, 0, 0, 0, 0, 0, 0, 0, 0, 0, 0, 0, 0, 0, 0, 0, 0, 0, 0, 0,\n",
       "        0, 0, 0, 0, 0, 0, 0, 0, 0, 0, 0, 0, 0, 0, 0, 0, 0, 0, 0, 0, 0, 0,\n",
       "        0, 0, 0, 0, 0, 0, 0, 0, 0, 0, 0, 0, 0, 0, 0, 0, 0, 0, 0, 0, 0, 0,\n",
       "        0, 0, 0, 0, 0, 0, 0, 0, 0, 0, 0, 0, 0, 0, 0, 0, 0, 0, 0, 0, 0, 0,\n",
       "        0, 0, 0, 0, 0, 0, 0, 0, 0, 0, 0, 0, 0, 0, 0, 0, 0, 0, 0, 0, 0, 0,\n",
       "        0, 0, 0, 0, 0, 0, 0, 0, 0, 0, 0, 0, 0, 0, 0, 0, 0, 0, 0, 0, 0, 0,\n",
       "        0, 0, 0, 0, 0, 0, 0, 0, 0, 0, 0, 0, 0, 0, 0, 0, 0, 0, 0, 0, 0, 0,\n",
       "        0, 0, 0, 0, 0, 0, 0, 0, 0, 0, 0, 0, 0, 0, 0, 0, 0, 0, 0, 0, 0, 0,\n",
       "        0, 0, 0, 0, 0, 0, 0, 0, 0, 0, 0, 0, 0, 0, 0, 0, 0, 0, 0, 0, 0, 0,\n",
       "        0, 0, 0, 0, 0, 0, 0, 0, 0, 0, 0, 0, 0, 0, 0, 0, 0, 0, 0, 0, 0, 0,\n",
       "        0, 0, 0, 0, 0, 0, 0, 0, 0, 0, 0, 0, 0, 0, 0, 0, 0, 0, 0, 0, 0, 0,\n",
       "        0, 0, 0, 0, 0, 0, 0, 0, 0, 0, 0, 0, 0, 0, 0, 0, 0, 0, 0, 0, 0, 0,\n",
       "        0, 0, 0, 0, 0, 0, 0, 0, 0, 0, 0, 0, 0, 0, 0, 0, 0, 0, 0, 0, 0, 0,\n",
       "        0, 0, 0, 0, 0, 0, 0, 0, 0, 0, 0, 0, 0, 0, 0, 0, 0, 0, 0, 0, 0, 0,\n",
       "        0, 0, 0, 0, 0, 0, 0, 0, 0, 0, 0, 0, 0, 0, 0, 0, 0, 0, 0, 0, 0, 0,\n",
       "        0, 0, 0, 0, 0, 0, 0, 0, 0, 0, 0, 0, 0, 0, 0, 0, 0, 0, 0, 0, 0, 0,\n",
       "        0, 0, 0, 0, 0, 0, 0, 0, 0, 0]])"
      ]
     },
     "execution_count": 48,
     "metadata": {},
     "output_type": "execute_result"
    }
   ],
   "source": [
    "inputs[0].toarray()"
   ]
  },
  {
   "cell_type": "code",
   "execution_count": 49,
   "id": "f9595cf6",
   "metadata": {
    "execution": {
     "iopub.execute_input": "2023-01-01T09:21:29.307703Z",
     "iopub.status.busy": "2023-01-01T09:21:29.306820Z",
     "iopub.status.idle": "2023-01-01T09:22:20.638566Z",
     "shell.execute_reply": "2023-01-01T09:22:20.637119Z"
    },
    "executionInfo": {
     "elapsed": 59098,
     "status": "ok",
     "timestamp": 1672563757157,
     "user": {
      "displayName": "Zaid Ahmed",
      "userId": "12461655618258195944"
     },
     "user_tz": -300
    },
    "id": "qLClEbgzE3X6",
    "papermill": {
     "duration": 51.364692,
     "end_time": "2023-01-01T09:22:20.641952",
     "exception": false,
     "start_time": "2023-01-01T09:21:29.277260",
     "status": "completed"
    },
    "tags": []
   },
   "outputs": [],
   "source": [
    "test_df=pd.read_csv(test_fname)\n",
    "\n",
    "\n",
    "test_inputs=vectorizer.transform(test_df.question_text)"
   ]
  },
  {
   "cell_type": "code",
   "execution_count": null,
   "id": "572e515c",
   "metadata": {
    "executionInfo": {
     "elapsed": 36,
     "status": "ok",
     "timestamp": 1672563757158,
     "user": {
      "displayName": "Zaid Ahmed",
      "userId": "12461655618258195944"
     },
     "user_tz": -300
    },
    "id": "QiMBK81DLjsg",
    "papermill": {
     "duration": 0.03296,
     "end_time": "2023-01-01T09:22:20.710803",
     "exception": false,
     "start_time": "2023-01-01T09:22:20.677843",
     "status": "completed"
    },
    "tags": []
   },
   "outputs": [],
   "source": []
  },
  {
   "cell_type": "code",
   "execution_count": null,
   "id": "1461535a",
   "metadata": {
    "executionInfo": {
     "elapsed": 36,
     "status": "ok",
     "timestamp": 1672563757159,
     "user": {
      "displayName": "Zaid Ahmed",
      "userId": "12461655618258195944"
     },
     "user_tz": -300
    },
    "id": "UGe5EaYXLjpe",
    "papermill": {
     "duration": 0.028046,
     "end_time": "2023-01-01T09:22:20.767106",
     "exception": false,
     "start_time": "2023-01-01T09:22:20.739060",
     "status": "completed"
    },
    "tags": []
   },
   "outputs": [],
   "source": []
  },
  {
   "cell_type": "code",
   "execution_count": null,
   "id": "aa810df0",
   "metadata": {
    "executionInfo": {
     "elapsed": 37,
     "status": "ok",
     "timestamp": 1672563757160,
     "user": {
      "displayName": "Zaid Ahmed",
      "userId": "12461655618258195944"
     },
     "user_tz": -300
    },
    "id": "bDANMboGLjm4",
    "papermill": {
     "duration": 0.027628,
     "end_time": "2023-01-01T09:22:20.822665",
     "exception": false,
     "start_time": "2023-01-01T09:22:20.795037",
     "status": "completed"
    },
    "tags": []
   },
   "outputs": [],
   "source": []
  },
  {
   "cell_type": "code",
   "execution_count": null,
   "id": "ca58fe47",
   "metadata": {
    "executionInfo": {
     "elapsed": 36,
     "status": "ok",
     "timestamp": 1672563757160,
     "user": {
      "displayName": "Zaid Ahmed",
      "userId": "12461655618258195944"
     },
     "user_tz": -300
    },
    "id": "neH-WDmULjjY",
    "papermill": {
     "duration": 0.027671,
     "end_time": "2023-01-01T09:22:20.879985",
     "exception": false,
     "start_time": "2023-01-01T09:22:20.852314",
     "status": "completed"
    },
    "tags": []
   },
   "outputs": [],
   "source": []
  },
  {
   "cell_type": "code",
   "execution_count": null,
   "id": "7aa3b133",
   "metadata": {
    "executionInfo": {
     "elapsed": 36,
     "status": "ok",
     "timestamp": 1672563757161,
     "user": {
      "displayName": "Zaid Ahmed",
      "userId": "12461655618258195944"
     },
     "user_tz": -300
    },
    "id": "XtJ8Vs-uLjgP",
    "papermill": {
     "duration": 0.027658,
     "end_time": "2023-01-01T09:22:20.935883",
     "exception": false,
     "start_time": "2023-01-01T09:22:20.908225",
     "status": "completed"
    },
    "tags": []
   },
   "outputs": [],
   "source": []
  },
  {
   "cell_type": "code",
   "execution_count": null,
   "id": "0f864da3",
   "metadata": {
    "executionInfo": {
     "elapsed": 35,
     "status": "ok",
     "timestamp": 1672563757161,
     "user": {
      "displayName": "Zaid Ahmed",
      "userId": "12461655618258195944"
     },
     "user_tz": -300
    },
    "id": "KpbuufnvE3VA",
    "papermill": {
     "duration": 0.02804,
     "end_time": "2023-01-01T09:22:20.992096",
     "exception": false,
     "start_time": "2023-01-01T09:22:20.964056",
     "status": "completed"
    },
    "tags": []
   },
   "outputs": [],
   "source": []
  },
  {
   "cell_type": "code",
   "execution_count": null,
   "id": "6bf6db27",
   "metadata": {
    "executionInfo": {
     "elapsed": 35,
     "status": "ok",
     "timestamp": 1672563757162,
     "user": {
      "displayName": "Zaid Ahmed",
      "userId": "12461655618258195944"
     },
     "user_tz": -300
    },
    "id": "0wJgxvZkE3Rs",
    "papermill": {
     "duration": 0.027966,
     "end_time": "2023-01-01T09:22:21.048320",
     "exception": false,
     "start_time": "2023-01-01T09:22:21.020354",
     "status": "completed"
    },
    "tags": []
   },
   "outputs": [],
   "source": []
  },
  {
   "cell_type": "code",
   "execution_count": null,
   "id": "3ae90773",
   "metadata": {
    "executionInfo": {
     "elapsed": 34,
     "status": "ok",
     "timestamp": 1672563757163,
     "user": {
      "displayName": "Zaid Ahmed",
      "userId": "12461655618258195944"
     },
     "user_tz": -300
    },
    "id": "xbEwzhVYE3CU",
    "papermill": {
     "duration": 0.02761,
     "end_time": "2023-01-01T09:22:21.104006",
     "exception": false,
     "start_time": "2023-01-01T09:22:21.076396",
     "status": "completed"
    },
    "tags": []
   },
   "outputs": [],
   "source": []
  },
  {
   "cell_type": "markdown",
   "id": "c6074caf",
   "metadata": {
    "id": "Cfc1eh5rdQWV",
    "papermill": {
     "duration": 0.027868,
     "end_time": "2023-01-01T09:22:21.159919",
     "exception": false,
     "start_time": "2023-01-01T09:22:21.132051",
     "status": "completed"
    },
    "tags": []
   },
   "source": [
    "## ml models for text classification"
   ]
  },
  {
   "cell_type": "code",
   "execution_count": 50,
   "id": "c0ea7d75",
   "metadata": {
    "execution": {
     "iopub.execute_input": "2023-01-01T09:22:21.217675Z",
     "iopub.status.busy": "2023-01-01T09:22:21.217241Z",
     "iopub.status.idle": "2023-01-01T09:22:21.222677Z",
     "shell.execute_reply": "2023-01-01T09:22:21.220861Z"
    },
    "executionInfo": {
     "elapsed": 33,
     "status": "ok",
     "timestamp": 1672563757163,
     "user": {
      "displayName": "Zaid Ahmed",
      "userId": "12461655618258195944"
     },
     "user_tz": -300
    },
    "id": "RJ4suVnjMxqp",
    "papermill": {
     "duration": 0.037335,
     "end_time": "2023-01-01T09:22:21.225282",
     "exception": false,
     "start_time": "2023-01-01T09:22:21.187947",
     "status": "completed"
    },
    "tags": []
   },
   "outputs": [],
   "source": [
    " from sklearn.model_selection import train_test_split\n"
   ]
  },
  {
   "cell_type": "code",
   "execution_count": 51,
   "id": "30057d52",
   "metadata": {
    "execution": {
     "iopub.execute_input": "2023-01-01T09:22:21.283147Z",
     "iopub.status.busy": "2023-01-01T09:22:21.282815Z",
     "iopub.status.idle": "2023-01-01T09:22:21.301800Z",
     "shell.execute_reply": "2023-01-01T09:22:21.300689Z"
    },
    "executionInfo": {
     "elapsed": 33,
     "status": "ok",
     "timestamp": 1672563757164,
     "user": {
      "displayName": "Zaid Ahmed",
      "userId": "12461655618258195944"
     },
     "user_tz": -300
    },
    "id": "jsDvFvIUMxiq",
    "papermill": {
     "duration": 0.050913,
     "end_time": "2023-01-01T09:22:21.304427",
     "exception": false,
     "start_time": "2023-01-01T09:22:21.253514",
     "status": "completed"
    },
    "tags": []
   },
   "outputs": [],
   "source": [
    "train_inputs,val_inputs,train_targets,val_targets=train_test_split(inputs,\n",
    "                                                                   sample_df.target,test_size=0.3,random_state=42)"
   ]
  },
  {
   "cell_type": "code",
   "execution_count": 52,
   "id": "e0e18c43",
   "metadata": {
    "execution": {
     "iopub.execute_input": "2023-01-01T09:22:21.363433Z",
     "iopub.status.busy": "2023-01-01T09:22:21.363056Z",
     "iopub.status.idle": "2023-01-01T09:22:21.367252Z",
     "shell.execute_reply": "2023-01-01T09:22:21.366513Z"
    },
    "executionInfo": {
     "elapsed": 33,
     "status": "ok",
     "timestamp": 1672563757164,
     "user": {
      "displayName": "Zaid Ahmed",
      "userId": "12461655618258195944"
     },
     "user_tz": -300
    },
    "id": "ZfRuX3NcMxfn",
    "papermill": {
     "duration": 0.036071,
     "end_time": "2023-01-01T09:22:21.368889",
     "exception": false,
     "start_time": "2023-01-01T09:22:21.332818",
     "status": "completed"
    },
    "tags": []
   },
   "outputs": [],
   "source": [
    " from sklearn.linear_model import LogisticRegression\n"
   ]
  },
  {
   "cell_type": "code",
   "execution_count": 53,
   "id": "fe860326",
   "metadata": {
    "execution": {
     "iopub.execute_input": "2023-01-01T09:22:21.428215Z",
     "iopub.status.busy": "2023-01-01T09:22:21.427569Z",
     "iopub.status.idle": "2023-01-01T09:22:21.432140Z",
     "shell.execute_reply": "2023-01-01T09:22:21.431188Z"
    },
    "executionInfo": {
     "elapsed": 34,
     "status": "ok",
     "timestamp": 1672563757165,
     "user": {
      "displayName": "Zaid Ahmed",
      "userId": "12461655618258195944"
     },
     "user_tz": -300
    },
    "id": "RL9mLGRxMxc1",
    "papermill": {
     "duration": 0.036425,
     "end_time": "2023-01-01T09:22:21.433999",
     "exception": false,
     "start_time": "2023-01-01T09:22:21.397574",
     "status": "completed"
    },
    "tags": []
   },
   "outputs": [],
   "source": [
    "MAX_ITER=1000"
   ]
  },
  {
   "cell_type": "code",
   "execution_count": 54,
   "id": "91c17386",
   "metadata": {
    "execution": {
     "iopub.execute_input": "2023-01-01T09:22:21.494909Z",
     "iopub.status.busy": "2023-01-01T09:22:21.494503Z",
     "iopub.status.idle": "2023-01-01T09:22:21.499138Z",
     "shell.execute_reply": "2023-01-01T09:22:21.498194Z"
    },
    "executionInfo": {
     "elapsed": 33,
     "status": "ok",
     "timestamp": 1672563757165,
     "user": {
      "displayName": "Zaid Ahmed",
      "userId": "12461655618258195944"
     },
     "user_tz": -300
    },
    "id": "MWc-q7fFMxZ2",
    "papermill": {
     "duration": 0.036837,
     "end_time": "2023-01-01T09:22:21.501109",
     "exception": false,
     "start_time": "2023-01-01T09:22:21.464272",
     "status": "completed"
    },
    "tags": []
   },
   "outputs": [],
   "source": [
    "model=LogisticRegression(max_iter=1000,solver='sag')"
   ]
  },
  {
   "cell_type": "code",
   "execution_count": 55,
   "id": "d9d501b6",
   "metadata": {
    "execution": {
     "iopub.execute_input": "2023-01-01T09:22:21.561143Z",
     "iopub.status.busy": "2023-01-01T09:22:21.560541Z",
     "iopub.status.idle": "2023-01-01T09:22:42.770194Z",
     "shell.execute_reply": "2023-01-01T09:22:42.768777Z"
    },
    "executionInfo": {
     "elapsed": 28283,
     "status": "ok",
     "timestamp": 1672563785415,
     "user": {
      "displayName": "Zaid Ahmed",
      "userId": "12461655618258195944"
     },
     "user_tz": -300
    },
    "id": "WwGXP15tMxWl",
    "outputId": "a826722e-9c57-4f26-b4a2-6bd93ff07756",
    "papermill": {
     "duration": 21.242535,
     "end_time": "2023-01-01T09:22:42.772369",
     "exception": false,
     "start_time": "2023-01-01T09:22:21.529834",
     "status": "completed"
    },
    "tags": []
   },
   "outputs": [
    {
     "name": "stderr",
     "output_type": "stream",
     "text": [
      "/opt/conda/lib/python3.7/site-packages/sklearn/linear_model/_sag.py:354: ConvergenceWarning: The max_iter was reached which means the coef_ did not converge\n",
      "  ConvergenceWarning,\n"
     ]
    },
    {
     "data": {
      "text/plain": [
       "LogisticRegression(max_iter=1000, solver='sag')"
      ]
     },
     "execution_count": 55,
     "metadata": {},
     "output_type": "execute_result"
    }
   ],
   "source": [
    "model.fit(train_inputs,train_targets)"
   ]
  },
  {
   "cell_type": "markdown",
   "id": "61006a1a",
   "metadata": {
    "id": "UuEkynFZA0Q4",
    "papermill": {
     "duration": 0.028743,
     "end_time": "2023-01-01T09:22:42.829739",
     "exception": false,
     "start_time": "2023-01-01T09:22:42.800996",
     "status": "completed"
    },
    "tags": []
   },
   "source": [
    "##make predictions using the model"
   ]
  },
  {
   "cell_type": "code",
   "execution_count": 56,
   "id": "9680088d",
   "metadata": {
    "execution": {
     "iopub.execute_input": "2023-01-01T09:22:42.889372Z",
     "iopub.status.busy": "2023-01-01T09:22:42.888451Z",
     "iopub.status.idle": "2023-01-01T09:22:42.894538Z",
     "shell.execute_reply": "2023-01-01T09:22:42.893409Z"
    },
    "executionInfo": {
     "elapsed": 122,
     "status": "ok",
     "timestamp": 1672563785416,
     "user": {
      "displayName": "Zaid Ahmed",
      "userId": "12461655618258195944"
     },
     "user_tz": -300
    },
    "id": "TCJdDmS14cmK",
    "papermill": {
     "duration": 0.037981,
     "end_time": "2023-01-01T09:22:42.896319",
     "exception": false,
     "start_time": "2023-01-01T09:22:42.858338",
     "status": "completed"
    },
    "tags": []
   },
   "outputs": [],
   "source": [
    "train_preds=model.predict(train_inputs)"
   ]
  },
  {
   "cell_type": "code",
   "execution_count": 57,
   "id": "07234f32",
   "metadata": {
    "execution": {
     "iopub.execute_input": "2023-01-01T09:22:42.953603Z",
     "iopub.status.busy": "2023-01-01T09:22:42.953237Z",
     "iopub.status.idle": "2023-01-01T09:22:42.962016Z",
     "shell.execute_reply": "2023-01-01T09:22:42.960682Z"
    },
    "executionInfo": {
     "elapsed": 117,
     "status": "ok",
     "timestamp": 1672563785417,
     "user": {
      "displayName": "Zaid Ahmed",
      "userId": "12461655618258195944"
     },
     "user_tz": -300
    },
    "id": "QYN5Cmw64cjr",
    "outputId": "6a01e217-1ae0-43c5-9eb3-521778617a62",
    "papermill": {
     "duration": 0.039581,
     "end_time": "2023-01-01T09:22:42.963984",
     "exception": false,
     "start_time": "2023-01-01T09:22:42.924403",
     "status": "completed"
    },
    "tags": []
   },
   "outputs": [
    {
     "data": {
      "text/plain": [
       "0    68211\n",
       "1     1789\n",
       "dtype: int64"
      ]
     },
     "execution_count": 57,
     "metadata": {},
     "output_type": "execute_result"
    }
   ],
   "source": [
    "pd.Series(train_preds).value_counts()"
   ]
  },
  {
   "cell_type": "code",
   "execution_count": 58,
   "id": "c9c100e3",
   "metadata": {
    "execution": {
     "iopub.execute_input": "2023-01-01T09:22:43.024248Z",
     "iopub.status.busy": "2023-01-01T09:22:43.023855Z",
     "iopub.status.idle": "2023-01-01T09:22:43.034064Z",
     "shell.execute_reply": "2023-01-01T09:22:43.033013Z"
    },
    "executionInfo": {
     "elapsed": 111,
     "status": "ok",
     "timestamp": 1672563785418,
     "user": {
      "displayName": "Zaid Ahmed",
      "userId": "12461655618258195944"
     },
     "user_tz": -300
    },
    "id": "eOTKqv5L4cgb",
    "outputId": "82cfc61f-376a-40c1-9565-19912373f81e",
    "papermill": {
     "duration": 0.042993,
     "end_time": "2023-01-01T09:22:43.035999",
     "exception": false,
     "start_time": "2023-01-01T09:22:42.993006",
     "status": "completed"
    },
    "tags": []
   },
   "outputs": [
    {
     "data": {
      "text/plain": [
       "0    65784\n",
       "1     4216\n",
       "Name: target, dtype: int64"
      ]
     },
     "execution_count": 58,
     "metadata": {},
     "output_type": "execute_result"
    }
   ],
   "source": [
    "pd.Series(train_targets).value_counts()"
   ]
  },
  {
   "cell_type": "code",
   "execution_count": 59,
   "id": "7e6ef0ee",
   "metadata": {
    "execution": {
     "iopub.execute_input": "2023-01-01T09:22:43.095338Z",
     "iopub.status.busy": "2023-01-01T09:22:43.094965Z",
     "iopub.status.idle": "2023-01-01T09:22:43.100434Z",
     "shell.execute_reply": "2023-01-01T09:22:43.099445Z"
    },
    "executionInfo": {
     "elapsed": 104,
     "status": "ok",
     "timestamp": 1672563785420,
     "user": {
      "displayName": "Zaid Ahmed",
      "userId": "12461655618258195944"
     },
     "user_tz": -300
    },
    "id": "xboJDUVC4cdq",
    "papermill": {
     "duration": 0.03737,
     "end_time": "2023-01-01T09:22:43.102286",
     "exception": false,
     "start_time": "2023-01-01T09:22:43.064916",
     "status": "completed"
    },
    "tags": []
   },
   "outputs": [],
   "source": [
    " from sklearn.metrics import accuracy_score\n"
   ]
  },
  {
   "cell_type": "code",
   "execution_count": 60,
   "id": "c75d49a2",
   "metadata": {
    "execution": {
     "iopub.execute_input": "2023-01-01T09:22:43.162005Z",
     "iopub.status.busy": "2023-01-01T09:22:43.161634Z",
     "iopub.status.idle": "2023-01-01T09:22:43.172472Z",
     "shell.execute_reply": "2023-01-01T09:22:43.171086Z"
    },
    "executionInfo": {
     "elapsed": 113,
     "status": "ok",
     "timestamp": 1672563785429,
     "user": {
      "displayName": "Zaid Ahmed",
      "userId": "12461655618258195944"
     },
     "user_tz": -300
    },
    "id": "dF73Mcuu4cbR",
    "outputId": "01071aad-ea69-46ea-cfeb-203332536551",
    "papermill": {
     "duration": 0.042995,
     "end_time": "2023-01-01T09:22:43.174747",
     "exception": false,
     "start_time": "2023-01-01T09:22:43.131752",
     "status": "completed"
    },
    "tags": []
   },
   "outputs": [
    {
     "data": {
      "text/plain": [
       "0.9473"
      ]
     },
     "execution_count": 60,
     "metadata": {},
     "output_type": "execute_result"
    }
   ],
   "source": [
    "accuracy_score(train_targets,train_preds)"
   ]
  },
  {
   "cell_type": "code",
   "execution_count": 61,
   "id": "e328c581",
   "metadata": {
    "execution": {
     "iopub.execute_input": "2023-01-01T09:22:43.237421Z",
     "iopub.status.busy": "2023-01-01T09:22:43.237025Z",
     "iopub.status.idle": "2023-01-01T09:22:43.241528Z",
     "shell.execute_reply": "2023-01-01T09:22:43.240252Z"
    },
    "executionInfo": {
     "elapsed": 114,
     "status": "ok",
     "timestamp": 1672563785435,
     "user": {
      "displayName": "Zaid Ahmed",
      "userId": "12461655618258195944"
     },
     "user_tz": -300
    },
    "id": "gVQbjfQm4cZU",
    "papermill": {
     "duration": 0.039123,
     "end_time": "2023-01-01T09:22:43.243979",
     "exception": false,
     "start_time": "2023-01-01T09:22:43.204856",
     "status": "completed"
    },
    "tags": []
   },
   "outputs": [],
   "source": [
    "from sklearn.metrics import f1_score"
   ]
  },
  {
   "cell_type": "code",
   "execution_count": 62,
   "id": "3f85731e",
   "metadata": {
    "execution": {
     "iopub.execute_input": "2023-01-01T09:22:43.305542Z",
     "iopub.status.busy": "2023-01-01T09:22:43.305175Z",
     "iopub.status.idle": "2023-01-01T09:22:43.326418Z",
     "shell.execute_reply": "2023-01-01T09:22:43.325319Z"
    },
    "executionInfo": {
     "elapsed": 115,
     "status": "ok",
     "timestamp": 1672563785437,
     "user": {
      "displayName": "Zaid Ahmed",
      "userId": "12461655618258195944"
     },
     "user_tz": -300
    },
    "id": "1nY8WTsQ4cWs",
    "outputId": "12e58c75-5ce7-4903-a165-4c4e423140a2",
    "papermill": {
     "duration": 0.055328,
     "end_time": "2023-01-01T09:22:43.328215",
     "exception": false,
     "start_time": "2023-01-01T09:22:43.272887",
     "status": "completed"
    },
    "tags": []
   },
   "outputs": [
    {
     "data": {
      "text/plain": [
       "0.38567860116569525"
      ]
     },
     "execution_count": 62,
     "metadata": {},
     "output_type": "execute_result"
    }
   ],
   "source": [
    "f1_score(train_targets,train_preds)"
   ]
  },
  {
   "cell_type": "code",
   "execution_count": 63,
   "id": "f8e016d3",
   "metadata": {
    "execution": {
     "iopub.execute_input": "2023-01-01T09:22:43.389071Z",
     "iopub.status.busy": "2023-01-01T09:22:43.388538Z",
     "iopub.status.idle": "2023-01-01T09:22:43.393664Z",
     "shell.execute_reply": "2023-01-01T09:22:43.392314Z"
    },
    "executionInfo": {
     "elapsed": 111,
     "status": "ok",
     "timestamp": 1672563785440,
     "user": {
      "displayName": "Zaid Ahmed",
      "userId": "12461655618258195944"
     },
     "user_tz": -300
    },
    "id": "q-d3x6a_4cT8",
    "papermill": {
     "duration": 0.038671,
     "end_time": "2023-01-01T09:22:43.395779",
     "exception": false,
     "start_time": "2023-01-01T09:22:43.357108",
     "status": "completed"
    },
    "tags": []
   },
   "outputs": [],
   "source": [
    "val_preds=model.predict(val_inputs)"
   ]
  },
  {
   "cell_type": "code",
   "execution_count": 64,
   "id": "adec3437",
   "metadata": {
    "execution": {
     "iopub.execute_input": "2023-01-01T09:22:43.457440Z",
     "iopub.status.busy": "2023-01-01T09:22:43.457020Z",
     "iopub.status.idle": "2023-01-01T09:22:43.465785Z",
     "shell.execute_reply": "2023-01-01T09:22:43.464599Z"
    },
    "executionInfo": {
     "elapsed": 112,
     "status": "ok",
     "timestamp": 1672563785441,
     "user": {
      "displayName": "Zaid Ahmed",
      "userId": "12461655618258195944"
     },
     "user_tz": -300
    },
    "id": "spLA9XeD4cRD",
    "outputId": "9f9f084e-6cbb-4cad-df1d-84ace282ce9a",
    "papermill": {
     "duration": 0.042291,
     "end_time": "2023-01-01T09:22:43.467806",
     "exception": false,
     "start_time": "2023-01-01T09:22:43.425515",
     "status": "completed"
    },
    "tags": []
   },
   "outputs": [
    {
     "data": {
      "text/plain": [
       "0.9447666666666666"
      ]
     },
     "execution_count": 64,
     "metadata": {},
     "output_type": "execute_result"
    }
   ],
   "source": [
    "accuracy_score(val_targets,val_preds)"
   ]
  },
  {
   "cell_type": "code",
   "execution_count": 65,
   "id": "212b6c5e",
   "metadata": {
    "execution": {
     "iopub.execute_input": "2023-01-01T09:22:43.540194Z",
     "iopub.status.busy": "2023-01-01T09:22:43.539774Z",
     "iopub.status.idle": "2023-01-01T09:22:43.555668Z",
     "shell.execute_reply": "2023-01-01T09:22:43.554616Z"
    },
    "executionInfo": {
     "elapsed": 113,
     "status": "ok",
     "timestamp": 1672563785449,
     "user": {
      "displayName": "Zaid Ahmed",
      "userId": "12461655618258195944"
     },
     "user_tz": -300
    },
    "id": "mLeoYsJv4cOa",
    "outputId": "6b240234-8168-4491-a3d2-36737e92bb9f",
    "papermill": {
     "duration": 0.059455,
     "end_time": "2023-01-01T09:22:43.557857",
     "exception": false,
     "start_time": "2023-01-01T09:22:43.498402",
     "status": "completed"
    },
    "tags": []
   },
   "outputs": [
    {
     "data": {
      "text/plain": [
       "0.35849787069299266"
      ]
     },
     "execution_count": 65,
     "metadata": {},
     "output_type": "execute_result"
    }
   ],
   "source": [
    "f1_score(val_targets,val_preds)"
   ]
  },
  {
   "cell_type": "code",
   "execution_count": 66,
   "id": "bd710db8",
   "metadata": {
    "execution": {
     "iopub.execute_input": "2023-01-01T09:22:43.619961Z",
     "iopub.status.busy": "2023-01-01T09:22:43.618892Z",
     "iopub.status.idle": "2023-01-01T09:22:43.625214Z",
     "shell.execute_reply": "2023-01-01T09:22:43.624338Z"
    },
    "executionInfo": {
     "elapsed": 109,
     "status": "ok",
     "timestamp": 1672563785450,
     "user": {
      "displayName": "Zaid Ahmed",
      "userId": "12461655618258195944"
     },
     "user_tz": -300
    },
    "id": "W_eII_cXMxTr",
    "outputId": "e8bf0ef5-5dff-46af-8e09-82e4cb8a8e32",
    "papermill": {
     "duration": 0.039439,
     "end_time": "2023-01-01T09:22:43.627044",
     "exception": false,
     "start_time": "2023-01-01T09:22:43.587605",
     "status": "completed"
    },
    "tags": []
   },
   "outputs": [
    {
     "data": {
      "text/plain": [
       "array(['How did Quebec nationalists see their province as a nation in the 1960s?',\n",
       "       'Do you have an adopted dog, how would you encourage people to adopt and not shop?',\n",
       "       'Why does velocity affect time? Does velocity affect space geometry?',\n",
       "       'How did Otto von Guericke used the Magdeburg hemispheres?',\n",
       "       'Can I convert montra helicon D to a mountain bike by just changing the tyres?',\n",
       "       'Is Gaza slowly becoming Auschwitz, Dachau or Treblinka for Palestinians?',\n",
       "       'Why does Quora automatically ban conservative opinions when reported, but does not do the same for liberal views?',\n",
       "       'Is it crazy if I wash or wipe my groceries off? Germs are everywhere.',\n",
       "       'Is there such a thing as dressing moderately, and if so, how is that different than dressing modestly?',\n",
       "       'Is it just me or have you ever been in this phase wherein you became ignorant to the people you once loved, completely disregarding their feelings/lives so you get to have something go your way and feel temporarily at ease. How did things change?'],\n",
       "      dtype=object)"
      ]
     },
     "execution_count": 66,
     "metadata": {},
     "output_type": "execute_result"
    }
   ],
   "source": [
    "sincere_df.question_text.values[:10]"
   ]
  },
  {
   "cell_type": "code",
   "execution_count": 67,
   "id": "92c27391",
   "metadata": {
    "execution": {
     "iopub.execute_input": "2023-01-01T09:22:43.688365Z",
     "iopub.status.busy": "2023-01-01T09:22:43.687969Z",
     "iopub.status.idle": "2023-01-01T09:22:43.695513Z",
     "shell.execute_reply": "2023-01-01T09:22:43.694608Z"
    },
    "executionInfo": {
     "elapsed": 103,
     "status": "ok",
     "timestamp": 1672563785452,
     "user": {
      "displayName": "Zaid Ahmed",
      "userId": "12461655618258195944"
     },
     "user_tz": -300
    },
    "id": "tVRrRpdweba1",
    "outputId": "63deb5c6-6bab-4891-e1a3-312088091af7",
    "papermill": {
     "duration": 0.041,
     "end_time": "2023-01-01T09:22:43.697870",
     "exception": false,
     "start_time": "2023-01-01T09:22:43.656870",
     "status": "completed"
    },
    "tags": []
   },
   "outputs": [
    {
     "data": {
      "text/plain": [
       "array([0, 0, 0, 0, 0, 0, 0, 0, 0, 0])"
      ]
     },
     "execution_count": 67,
     "metadata": {},
     "output_type": "execute_result"
    }
   ],
   "source": [
    "sincere_df.target.values[:10]"
   ]
  },
  {
   "cell_type": "code",
   "execution_count": 68,
   "id": "9d18582b",
   "metadata": {
    "execution": {
     "iopub.execute_input": "2023-01-01T09:22:43.760681Z",
     "iopub.status.busy": "2023-01-01T09:22:43.759475Z",
     "iopub.status.idle": "2023-01-01T09:22:43.769680Z",
     "shell.execute_reply": "2023-01-01T09:22:43.768934Z"
    },
    "executionInfo": {
     "elapsed": 99,
     "status": "ok",
     "timestamp": 1672563785454,
     "user": {
      "displayName": "Zaid Ahmed",
      "userId": "12461655618258195944"
     },
     "user_tz": -300
    },
    "id": "aoCTNhsfebXm",
    "outputId": "8f7f4ca7-40b8-4e0d-8653-a5e25ed180f6",
    "papermill": {
     "duration": 0.044252,
     "end_time": "2023-01-01T09:22:43.772075",
     "exception": false,
     "start_time": "2023-01-01T09:22:43.727823",
     "status": "completed"
    },
    "tags": []
   },
   "outputs": [
    {
     "data": {
      "text/plain": [
       "array([0, 0, 0, 0, 0, 0, 0, 0, 0, 0])"
      ]
     },
     "execution_count": 68,
     "metadata": {},
     "output_type": "execute_result"
    }
   ],
   "source": [
    "model.predict(vectorizer.transform(sincere_df.question_text.values[:10]))"
   ]
  },
  {
   "cell_type": "code",
   "execution_count": 69,
   "id": "89255b95",
   "metadata": {
    "execution": {
     "iopub.execute_input": "2023-01-01T09:22:43.834752Z",
     "iopub.status.busy": "2023-01-01T09:22:43.834060Z",
     "iopub.status.idle": "2023-01-01T09:22:43.843775Z",
     "shell.execute_reply": "2023-01-01T09:22:43.842555Z"
    },
    "executionInfo": {
     "elapsed": 96,
     "status": "ok",
     "timestamp": 1672563785458,
     "user": {
      "displayName": "Zaid Ahmed",
      "userId": "12461655618258195944"
     },
     "user_tz": -300
    },
    "id": "uQND8RZ7ebVI",
    "outputId": "024db47b-f2c4-43fe-b341-d3cb8d67f043",
    "papermill": {
     "duration": 0.043604,
     "end_time": "2023-01-01T09:22:43.845935",
     "exception": false,
     "start_time": "2023-01-01T09:22:43.802331",
     "status": "completed"
    },
    "tags": []
   },
   "outputs": [
    {
     "data": {
      "text/plain": [
       "array([0, 0, 0, 1, 0, 0, 0, 1, 0, 0])"
      ]
     },
     "execution_count": 69,
     "metadata": {},
     "output_type": "execute_result"
    }
   ],
   "source": [
    "model.predict(vectorizer.transform(insincere_df.question_text.values[:10]))"
   ]
  },
  {
   "cell_type": "code",
   "execution_count": null,
   "id": "04173463",
   "metadata": {
    "executionInfo": {
     "elapsed": 97,
     "status": "ok",
     "timestamp": 1672563785466,
     "user": {
      "displayName": "Zaid Ahmed",
      "userId": "12461655618258195944"
     },
     "user_tz": -300
    },
    "id": "d2LLNdOPebSb",
    "papermill": {
     "duration": 0.030097,
     "end_time": "2023-01-01T09:22:43.907008",
     "exception": false,
     "start_time": "2023-01-01T09:22:43.876911",
     "status": "completed"
    },
    "tags": []
   },
   "outputs": [],
   "source": []
  },
  {
   "cell_type": "code",
   "execution_count": null,
   "id": "21b635a3",
   "metadata": {
    "executionInfo": {
     "elapsed": 98,
     "status": "ok",
     "timestamp": 1672563785468,
     "user": {
      "displayName": "Zaid Ahmed",
      "userId": "12461655618258195944"
     },
     "user_tz": -300
    },
    "id": "MgQhlw6debQK",
    "papermill": {
     "duration": 0.030027,
     "end_time": "2023-01-01T09:22:43.967083",
     "exception": false,
     "start_time": "2023-01-01T09:22:43.937056",
     "status": "completed"
    },
    "tags": []
   },
   "outputs": [],
   "source": []
  },
  {
   "cell_type": "code",
   "execution_count": null,
   "id": "2a041017",
   "metadata": {
    "executionInfo": {
     "elapsed": 100,
     "status": "ok",
     "timestamp": 1672563785470,
     "user": {
      "displayName": "Zaid Ahmed",
      "userId": "12461655618258195944"
     },
     "user_tz": -300
    },
    "id": "YLX2Gc1BebNY",
    "papermill": {
     "duration": 0.029846,
     "end_time": "2023-01-01T09:22:44.027478",
     "exception": false,
     "start_time": "2023-01-01T09:22:43.997632",
     "status": "completed"
    },
    "tags": []
   },
   "outputs": [],
   "source": []
  },
  {
   "cell_type": "code",
   "execution_count": null,
   "id": "9865c862",
   "metadata": {
    "executionInfo": {
     "elapsed": 100,
     "status": "ok",
     "timestamp": 1672563785470,
     "user": {
      "displayName": "Zaid Ahmed",
      "userId": "12461655618258195944"
     },
     "user_tz": -300
    },
    "id": "FB3g1Kz8ebKN",
    "papermill": {
     "duration": 0.029819,
     "end_time": "2023-01-01T09:22:44.087441",
     "exception": false,
     "start_time": "2023-01-01T09:22:44.057622",
     "status": "completed"
    },
    "tags": []
   },
   "outputs": [],
   "source": []
  },
  {
   "cell_type": "code",
   "execution_count": null,
   "id": "bb98ca6a",
   "metadata": {
    "executionInfo": {
     "elapsed": 100,
     "status": "ok",
     "timestamp": 1672563785471,
     "user": {
      "displayName": "Zaid Ahmed",
      "userId": "12461655618258195944"
     },
     "user_tz": -300
    },
    "id": "klZXwiwNebG0",
    "papermill": {
     "duration": 0.030516,
     "end_time": "2023-01-01T09:22:44.147856",
     "exception": false,
     "start_time": "2023-01-01T09:22:44.117340",
     "status": "completed"
    },
    "tags": []
   },
   "outputs": [],
   "source": []
  },
  {
   "cell_type": "markdown",
   "id": "6f96cb51",
   "metadata": {
    "id": "FGmoZS2PdX8e",
    "papermill": {
     "duration": 0.029975,
     "end_time": "2023-01-01T09:22:44.208064",
     "exception": false,
     "start_time": "2023-01-01T09:22:44.178089",
     "status": "completed"
    },
    "tags": []
   },
   "source": [
    "##make predictions and submit to kaggle"
   ]
  },
  {
   "cell_type": "code",
   "execution_count": 70,
   "id": "f6e772d4",
   "metadata": {
    "execution": {
     "iopub.execute_input": "2023-01-01T09:22:44.269452Z",
     "iopub.status.busy": "2023-01-01T09:22:44.269106Z",
     "iopub.status.idle": "2023-01-01T09:22:44.280125Z",
     "shell.execute_reply": "2023-01-01T09:22:44.279220Z"
    },
    "executionInfo": {
     "elapsed": 100,
     "status": "ok",
     "timestamp": 1672563785471,
     "user": {
      "displayName": "Zaid Ahmed",
      "userId": "12461655618258195944"
     },
     "user_tz": -300
    },
    "id": "l3ABNt0ngcSP",
    "outputId": "499dec42-e008-477b-9e54-782b0951cc83",
    "papermill": {
     "duration": 0.044054,
     "end_time": "2023-01-01T09:22:44.282045",
     "exception": false,
     "start_time": "2023-01-01T09:22:44.237991",
     "status": "completed"
    },
    "tags": []
   },
   "outputs": [
    {
     "data": {
      "text/html": [
       "<div>\n",
       "<style scoped>\n",
       "    .dataframe tbody tr th:only-of-type {\n",
       "        vertical-align: middle;\n",
       "    }\n",
       "\n",
       "    .dataframe tbody tr th {\n",
       "        vertical-align: top;\n",
       "    }\n",
       "\n",
       "    .dataframe thead th {\n",
       "        text-align: right;\n",
       "    }\n",
       "</style>\n",
       "<table border=\"1\" class=\"dataframe\">\n",
       "  <thead>\n",
       "    <tr style=\"text-align: right;\">\n",
       "      <th></th>\n",
       "      <th>qid</th>\n",
       "      <th>question_text</th>\n",
       "    </tr>\n",
       "  </thead>\n",
       "  <tbody>\n",
       "    <tr>\n",
       "      <th>0</th>\n",
       "      <td>0000163e3ea7c7a74cd7</td>\n",
       "      <td>Why do so many women become so rude and arroga...</td>\n",
       "    </tr>\n",
       "    <tr>\n",
       "      <th>1</th>\n",
       "      <td>00002bd4fb5d505b9161</td>\n",
       "      <td>When should I apply for RV college of engineer...</td>\n",
       "    </tr>\n",
       "    <tr>\n",
       "      <th>2</th>\n",
       "      <td>00007756b4a147d2b0b3</td>\n",
       "      <td>What is it really like to be a nurse practitio...</td>\n",
       "    </tr>\n",
       "    <tr>\n",
       "      <th>3</th>\n",
       "      <td>000086e4b7e1c7146103</td>\n",
       "      <td>Who are entrepreneurs?</td>\n",
       "    </tr>\n",
       "    <tr>\n",
       "      <th>4</th>\n",
       "      <td>0000c4c3fbe8785a3090</td>\n",
       "      <td>Is education really making good people nowadays?</td>\n",
       "    </tr>\n",
       "    <tr>\n",
       "      <th>...</th>\n",
       "      <td>...</td>\n",
       "      <td>...</td>\n",
       "    </tr>\n",
       "    <tr>\n",
       "      <th>375801</th>\n",
       "      <td>ffff7fa746bd6d6197a9</td>\n",
       "      <td>How many countries listed in gold import in in...</td>\n",
       "    </tr>\n",
       "    <tr>\n",
       "      <th>375802</th>\n",
       "      <td>ffffa1be31c43046ab6b</td>\n",
       "      <td>Is there an alternative to dresses on formal p...</td>\n",
       "    </tr>\n",
       "    <tr>\n",
       "      <th>375803</th>\n",
       "      <td>ffffae173b6ca6bfa563</td>\n",
       "      <td>Where I can find best friendship quotes in Tel...</td>\n",
       "    </tr>\n",
       "    <tr>\n",
       "      <th>375804</th>\n",
       "      <td>ffffb1f7f1a008620287</td>\n",
       "      <td>What are the causes of refraction of light?</td>\n",
       "    </tr>\n",
       "    <tr>\n",
       "      <th>375805</th>\n",
       "      <td>fffff85473f4699474b0</td>\n",
       "      <td>Climate change is a worrying topic. How much t...</td>\n",
       "    </tr>\n",
       "  </tbody>\n",
       "</table>\n",
       "<p>375806 rows × 2 columns</p>\n",
       "</div>"
      ],
      "text/plain": [
       "                         qid  \\\n",
       "0       0000163e3ea7c7a74cd7   \n",
       "1       00002bd4fb5d505b9161   \n",
       "2       00007756b4a147d2b0b3   \n",
       "3       000086e4b7e1c7146103   \n",
       "4       0000c4c3fbe8785a3090   \n",
       "...                      ...   \n",
       "375801  ffff7fa746bd6d6197a9   \n",
       "375802  ffffa1be31c43046ab6b   \n",
       "375803  ffffae173b6ca6bfa563   \n",
       "375804  ffffb1f7f1a008620287   \n",
       "375805  fffff85473f4699474b0   \n",
       "\n",
       "                                            question_text  \n",
       "0       Why do so many women become so rude and arroga...  \n",
       "1       When should I apply for RV college of engineer...  \n",
       "2       What is it really like to be a nurse practitio...  \n",
       "3                                  Who are entrepreneurs?  \n",
       "4        Is education really making good people nowadays?  \n",
       "...                                                   ...  \n",
       "375801  How many countries listed in gold import in in...  \n",
       "375802  Is there an alternative to dresses on formal p...  \n",
       "375803  Where I can find best friendship quotes in Tel...  \n",
       "375804        What are the causes of refraction of light?  \n",
       "375805  Climate change is a worrying topic. How much t...  \n",
       "\n",
       "[375806 rows x 2 columns]"
      ]
     },
     "execution_count": 70,
     "metadata": {},
     "output_type": "execute_result"
    }
   ],
   "source": [
    "test_df"
   ]
  },
  {
   "cell_type": "code",
   "execution_count": 71,
   "id": "731b8c5c",
   "metadata": {
    "execution": {
     "iopub.execute_input": "2023-01-01T09:22:44.346324Z",
     "iopub.status.busy": "2023-01-01T09:22:44.345935Z",
     "iopub.status.idle": "2023-01-01T09:22:44.352481Z",
     "shell.execute_reply": "2023-01-01T09:22:44.351360Z"
    },
    "executionInfo": {
     "elapsed": 99,
     "status": "ok",
     "timestamp": 1672563785472,
     "user": {
      "displayName": "Zaid Ahmed",
      "userId": "12461655618258195944"
     },
     "user_tz": -300
    },
    "id": "W2h2MANEgcP9",
    "outputId": "aee471f1-ebfa-497f-eb24-015198b0174e",
    "papermill": {
     "duration": 0.041882,
     "end_time": "2023-01-01T09:22:44.355070",
     "exception": false,
     "start_time": "2023-01-01T09:22:44.313188",
     "status": "completed"
    },
    "tags": []
   },
   "outputs": [
    {
     "data": {
      "text/plain": [
       "(375806, 1000)"
      ]
     },
     "execution_count": 71,
     "metadata": {},
     "output_type": "execute_result"
    }
   ],
   "source": [
    "test_inputs.shape"
   ]
  },
  {
   "cell_type": "code",
   "execution_count": 72,
   "id": "b765d1a2",
   "metadata": {
    "execution": {
     "iopub.execute_input": "2023-01-01T09:22:44.418975Z",
     "iopub.status.busy": "2023-01-01T09:22:44.418607Z",
     "iopub.status.idle": "2023-01-01T09:22:44.432074Z",
     "shell.execute_reply": "2023-01-01T09:22:44.430659Z"
    },
    "executionInfo": {
     "elapsed": 92,
     "status": "ok",
     "timestamp": 1672563785472,
     "user": {
      "displayName": "Zaid Ahmed",
      "userId": "12461655618258195944"
     },
     "user_tz": -300
    },
    "id": "UghcUDHwgcNM",
    "papermill": {
     "duration": 0.048774,
     "end_time": "2023-01-01T09:22:44.434641",
     "exception": false,
     "start_time": "2023-01-01T09:22:44.385867",
     "status": "completed"
    },
    "tags": []
   },
   "outputs": [],
   "source": [
    "test_preds=model.predict(test_inputs)"
   ]
  },
  {
   "cell_type": "code",
   "execution_count": 73,
   "id": "ad03c8b7",
   "metadata": {
    "execution": {
     "iopub.execute_input": "2023-01-01T09:22:44.498243Z",
     "iopub.status.busy": "2023-01-01T09:22:44.497866Z",
     "iopub.status.idle": "2023-01-01T09:22:44.842914Z",
     "shell.execute_reply": "2023-01-01T09:22:44.841378Z"
    },
    "executionInfo": {
     "elapsed": 580,
     "status": "ok",
     "timestamp": 1672563944105,
     "user": {
      "displayName": "Zaid Ahmed",
      "userId": "12461655618258195944"
     },
     "user_tz": -300
    },
    "id": "AKCMIAwqgcJz",
    "papermill": {
     "duration": 0.379839,
     "end_time": "2023-01-01T09:22:44.845571",
     "exception": false,
     "start_time": "2023-01-01T09:22:44.465732",
     "status": "completed"
    },
    "tags": []
   },
   "outputs": [],
   "source": [
    "sub_df=pd.read_csv(sample_fname)"
   ]
  },
  {
   "cell_type": "code",
   "execution_count": 74,
   "id": "31de06c2",
   "metadata": {
    "execution": {
     "iopub.execute_input": "2023-01-01T09:22:44.909489Z",
     "iopub.status.busy": "2023-01-01T09:22:44.909109Z",
     "iopub.status.idle": "2023-01-01T09:22:44.920523Z",
     "shell.execute_reply": "2023-01-01T09:22:44.917324Z"
    },
    "executionInfo": {
     "elapsed": 718,
     "status": "ok",
     "timestamp": 1672563948796,
     "user": {
      "displayName": "Zaid Ahmed",
      "userId": "12461655618258195944"
     },
     "user_tz": -300
    },
    "id": "ntdixpA_gcGo",
    "papermill": {
     "duration": 0.048856,
     "end_time": "2023-01-01T09:22:44.925360",
     "exception": false,
     "start_time": "2023-01-01T09:22:44.876504",
     "status": "completed"
    },
    "tags": []
   },
   "outputs": [],
   "source": [
    "sub_df.prediction=test_preds"
   ]
  },
  {
   "cell_type": "code",
   "execution_count": 75,
   "id": "a2551b13",
   "metadata": {
    "execution": {
     "iopub.execute_input": "2023-01-01T09:22:44.993083Z",
     "iopub.status.busy": "2023-01-01T09:22:44.992071Z",
     "iopub.status.idle": "2023-01-01T09:22:45.003694Z",
     "shell.execute_reply": "2023-01-01T09:22:45.002656Z"
    },
    "executionInfo": {
     "elapsed": 13,
     "status": "ok",
     "timestamp": 1672563949468,
     "user": {
      "displayName": "Zaid Ahmed",
      "userId": "12461655618258195944"
     },
     "user_tz": -300
    },
    "id": "OpN0I1Ehgb7n",
    "outputId": "94b40151-7893-4bf9-e909-cbee06e65216",
    "papermill": {
     "duration": 0.045271,
     "end_time": "2023-01-01T09:22:45.005580",
     "exception": false,
     "start_time": "2023-01-01T09:22:44.960309",
     "status": "completed"
    },
    "tags": []
   },
   "outputs": [
    {
     "data": {
      "text/plain": [
       "0    366381\n",
       "1      9425\n",
       "Name: prediction, dtype: int64"
      ]
     },
     "execution_count": 75,
     "metadata": {},
     "output_type": "execute_result"
    }
   ],
   "source": [
    "sub_df.prediction.value_counts()"
   ]
  },
  {
   "cell_type": "code",
   "execution_count": 76,
   "id": "c63cebf0",
   "metadata": {
    "execution": {
     "iopub.execute_input": "2023-01-01T09:22:45.072403Z",
     "iopub.status.busy": "2023-01-01T09:22:45.070748Z",
     "iopub.status.idle": "2023-01-01T09:22:45.442955Z",
     "shell.execute_reply": "2023-01-01T09:22:45.441954Z"
    },
    "executionInfo": {
     "elapsed": 674,
     "status": "ok",
     "timestamp": 1672563954223,
     "user": {
      "displayName": "Zaid Ahmed",
      "userId": "12461655618258195944"
     },
     "user_tz": -300
    },
    "id": "lg64sj31kMAl",
    "papermill": {
     "duration": 0.407695,
     "end_time": "2023-01-01T09:22:45.445349",
     "exception": false,
     "start_time": "2023-01-01T09:22:45.037654",
     "status": "completed"
    },
    "tags": []
   },
   "outputs": [],
   "source": [
    "sub_df.to_csv('submission.csv',index=None)"
   ]
  }
 ],
 "metadata": {
  "kernelspec": {
   "display_name": "Python 3",
   "language": "python",
   "name": "python3"
  },
  "language_info": {
   "codemirror_mode": {
    "name": "ipython",
    "version": 3
   },
   "file_extension": ".py",
   "mimetype": "text/x-python",
   "name": "python",
   "nbconvert_exporter": "python",
   "pygments_lexer": "ipython3",
   "version": "3.11.2"
  },
  "papermill": {
   "default_parameters": {},
   "duration": 167.077853,
   "end_time": "2023-01-01T09:22:46.297808",
   "environment_variables": {},
   "exception": null,
   "input_path": "__notebook__.ipynb",
   "output_path": "__notebook__.ipynb",
   "parameters": {},
   "start_time": "2023-01-01T09:19:59.219955",
   "version": "2.3.4"
  },
  "vscode": {
   "interpreter": {
    "hash": "b457f83b178dc8a1db41eb87aaa34819bbf82befecccb7d662b75afdc6c09f0a"
   }
  }
 },
 "nbformat": 4,
 "nbformat_minor": 5
}
